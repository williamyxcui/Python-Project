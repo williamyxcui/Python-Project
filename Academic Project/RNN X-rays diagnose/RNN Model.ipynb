{
  "nbformat": 4,
  "nbformat_minor": 0,
  "metadata": {
    "colab": {
      "name": "Team_2_python_modeling_access_part.ipynb",
      "provenance": [],
      "toc_visible": true,
      "machine_shape": "hm"
    },
    "kernelspec": {
      "name": "python3",
      "display_name": "Python 3"
    },
    "accelerator": "TPU"
  },
  "cells": [
    {
      "cell_type": "code",
      "metadata": {
        "id": "WIbe4AQuFEKA",
        "colab_type": "code",
        "outputId": "c3797444-fd37-4462-e78e-7f244f05198f",
        "colab": {
          "base_uri": "https://localhost:8080/",
          "height": 125
        }
      },
      "source": [
        "from google.colab import drive\n",
        "drive.mount('/content/drive')"
      ],
      "execution_count": 0,
      "outputs": [
        {
          "output_type": "stream",
          "text": [
            "Go to this URL in a browser: https://accounts.google.com/o/oauth2/auth?client_id=947318989803-6bn6qk8qdgf4n4g3pfee6491hc0brc4i.apps.googleusercontent.com&redirect_uri=urn%3aietf%3awg%3aoauth%3a2.0%3aoob&response_type=code&scope=email%20https%3a%2f%2fwww.googleapis.com%2fauth%2fdocs.test%20https%3a%2f%2fwww.googleapis.com%2fauth%2fdrive%20https%3a%2f%2fwww.googleapis.com%2fauth%2fdrive.photos.readonly%20https%3a%2f%2fwww.googleapis.com%2fauth%2fpeopleapi.readonly\n",
            "\n",
            "Enter your authorization code:\n",
            "··········\n",
            "Mounted at /content/drive\n"
          ],
          "name": "stdout"
        }
      ]
    },
    {
      "cell_type": "markdown",
      "metadata": {
        "id": "4rg4kcuvJGtN",
        "colab_type": "text"
      },
      "source": [
        "# Since the number of image file is large and it needs a very long time to upload them in google drive, we have to load and processed them in the local and compressed them into NPZ file. This part begin from the load NPZ file part."
      ]
    },
    {
      "cell_type": "markdown",
      "metadata": {
        "id": "nktR_R7vCj9d",
        "colab_type": "text"
      },
      "source": [
        "## Import needed packages"
      ]
    },
    {
      "cell_type": "code",
      "metadata": {
        "id": "XzZTEQHD-VHe",
        "colab_type": "code",
        "outputId": "4f7ffc72-86d3-4f60-9c0e-fd9dc8a0d9b2",
        "colab": {
          "base_uri": "https://localhost:8080/",
          "height": 105
        }
      },
      "source": [
        "!pip install pydicom"
      ],
      "execution_count": 0,
      "outputs": [
        {
          "output_type": "stream",
          "text": [
            "Collecting pydicom\n",
            "\u001b[?25l  Downloading https://files.pythonhosted.org/packages/53/e6/4cae2b4b2fdbea5e2ddd188361139606d8f10f710ba1abecd6600da099c3/pydicom-1.4.2-py2.py3-none-any.whl (35.3MB)\n",
            "\u001b[K     |████████████████████████████████| 35.3MB 1.2MB/s \n",
            "\u001b[?25hInstalling collected packages: pydicom\n",
            "Successfully installed pydicom-1.4.2\n"
          ],
          "name": "stdout"
        }
      ]
    },
    {
      "cell_type": "code",
      "metadata": {
        "id": "kMayT9ziCZvf",
        "colab_type": "code",
        "outputId": "e3a536b1-24e7-4c97-df42-f4f525e0b91c",
        "colab": {
          "base_uri": "https://localhost:8080/",
          "height": 70
        }
      },
      "source": [
        "import pydicom\n",
        "import glob, pylab\n",
        "import numpy as np\n",
        "import pandas as pd\n",
        "import os\n",
        "\n",
        "import matplotlib.pyplot as plt\n",
        "import seaborn as sns\n",
        "import matplotlib.patches as patches\n",
        "from PIL import Image\n",
        "import numpy as np\n",
        "\n",
        "import pydicom as dicom\n",
        "import os\n",
        "import cv2\n",
        "import random\n",
        "\n",
        "from numpy import savez_compressed\n",
        "from keras.preprocessing import image\n",
        "from numpy import load\n",
        "\n",
        "from keras.preprocessing import image\n",
        "import tensorflow as tf\n",
        "from keras.models import Sequential\n",
        "from keras.layers.convolutional import Conv2D\n",
        "from keras.layers.convolutional import MaxPooling2D\n",
        "from keras.layers.core import Activation\n",
        "from keras.layers.core import Dropout\n",
        "from keras.layers.core import Dense\n",
        "from keras.layers import Flatten\n",
        "from keras.layers import Input\n",
        "from keras.models import Model\n",
        "from keras.optimizers import Adam, RMSprop\n",
        "from numpy import savez_compressed\n",
        "from tensorflow.keras.callbacks import EarlyStopping\n",
        "\n",
        "from sklearn.metrics import roc_curve, auc\n",
        "from sklearn.metrics import confusion_matrix, classification_report"
      ],
      "execution_count": 0,
      "outputs": [
        {
          "output_type": "stream",
          "text": [
            "/usr/local/lib/python3.6/dist-packages/statsmodels/tools/_testing.py:19: FutureWarning: pandas.util.testing is deprecated. Use the functions in the public API at pandas.testing instead.\n",
            "  import pandas.util.testing as tm\n",
            "Using TensorFlow backend.\n"
          ],
          "name": "stderr"
        }
      ]
    },
    {
      "cell_type": "markdown",
      "metadata": {
        "id": "rpzGeGqQCwam",
        "colab_type": "text"
      },
      "source": [
        "## Load CSV file (This part is in the first ipynb file)\n"
      ]
    },
    {
      "cell_type": "code",
      "metadata": {
        "id": "hDIjXVWvvsG9",
        "colab_type": "code",
        "outputId": "105bf7fd-92bc-4e76-a431-ce6295fcae9e",
        "colab": {
          "base_uri": "https://localhost:8080/",
          "height": 195
        }
      },
      "source": [
        "Dir ='/content/drive/My Drive/Deep learning project/'\n",
        "df = pd.read_csv(Dir+'data_labels.csv')\n",
        "df.head()"
      ],
      "execution_count": 0,
      "outputs": [
        {
          "output_type": "execute_result",
          "data": {
            "text/html": [
              "<div>\n",
              "<style scoped>\n",
              "    .dataframe tbody tr th:only-of-type {\n",
              "        vertical-align: middle;\n",
              "    }\n",
              "\n",
              "    .dataframe tbody tr th {\n",
              "        vertical-align: top;\n",
              "    }\n",
              "\n",
              "    .dataframe thead th {\n",
              "        text-align: right;\n",
              "    }\n",
              "</style>\n",
              "<table border=\"1\" class=\"dataframe\">\n",
              "  <thead>\n",
              "    <tr style=\"text-align: right;\">\n",
              "      <th></th>\n",
              "      <th>patientId</th>\n",
              "      <th>x</th>\n",
              "      <th>y</th>\n",
              "      <th>width</th>\n",
              "      <th>height</th>\n",
              "      <th>Target</th>\n",
              "    </tr>\n",
              "  </thead>\n",
              "  <tbody>\n",
              "    <tr>\n",
              "      <th>0</th>\n",
              "      <td>0004cfab-14fd-4e49-80ba-63a80b6bddd6</td>\n",
              "      <td>NaN</td>\n",
              "      <td>NaN</td>\n",
              "      <td>NaN</td>\n",
              "      <td>NaN</td>\n",
              "      <td>0</td>\n",
              "    </tr>\n",
              "    <tr>\n",
              "      <th>1</th>\n",
              "      <td>00313ee0-9eaa-42f4-b0ab-c148ed3241cd</td>\n",
              "      <td>NaN</td>\n",
              "      <td>NaN</td>\n",
              "      <td>NaN</td>\n",
              "      <td>NaN</td>\n",
              "      <td>0</td>\n",
              "    </tr>\n",
              "    <tr>\n",
              "      <th>2</th>\n",
              "      <td>00322d4d-1c29-4943-afc9-b6754be640eb</td>\n",
              "      <td>NaN</td>\n",
              "      <td>NaN</td>\n",
              "      <td>NaN</td>\n",
              "      <td>NaN</td>\n",
              "      <td>0</td>\n",
              "    </tr>\n",
              "    <tr>\n",
              "      <th>3</th>\n",
              "      <td>003d8fa0-6bf1-40ed-b54c-ac657f8495c5</td>\n",
              "      <td>NaN</td>\n",
              "      <td>NaN</td>\n",
              "      <td>NaN</td>\n",
              "      <td>NaN</td>\n",
              "      <td>0</td>\n",
              "    </tr>\n",
              "    <tr>\n",
              "      <th>4</th>\n",
              "      <td>00436515-870c-4b36-a041-de91049b9ab4</td>\n",
              "      <td>264.0</td>\n",
              "      <td>152.0</td>\n",
              "      <td>213.0</td>\n",
              "      <td>379.0</td>\n",
              "      <td>1</td>\n",
              "    </tr>\n",
              "  </tbody>\n",
              "</table>\n",
              "</div>"
            ],
            "text/plain": [
              "                              patientId      x      y  width  height  Target\n",
              "0  0004cfab-14fd-4e49-80ba-63a80b6bddd6    NaN    NaN    NaN     NaN       0\n",
              "1  00313ee0-9eaa-42f4-b0ab-c148ed3241cd    NaN    NaN    NaN     NaN       0\n",
              "2  00322d4d-1c29-4943-afc9-b6754be640eb    NaN    NaN    NaN     NaN       0\n",
              "3  003d8fa0-6bf1-40ed-b54c-ac657f8495c5    NaN    NaN    NaN     NaN       0\n",
              "4  00436515-870c-4b36-a041-de91049b9ab4  264.0  152.0  213.0   379.0       1"
            ]
          },
          "metadata": {
            "tags": []
          },
          "execution_count": 7
        }
      ]
    },
    {
      "cell_type": "markdown",
      "metadata": {
        "id": "Rcq0prngJFaP",
        "colab_type": "text"
      },
      "source": [
        ""
      ]
    },
    {
      "cell_type": "markdown",
      "metadata": {
        "id": "riZBEkORYt1d",
        "colab_type": "text"
      },
      "source": [
        "## Exploratory Data Analysis"
      ]
    },
    {
      "cell_type": "code",
      "metadata": {
        "id": "dXUz6jDkvsO3",
        "colab_type": "code",
        "colab": {}
      },
      "source": [
        "df = df.drop_duplicates('patientId')"
      ],
      "execution_count": 0,
      "outputs": []
    },
    {
      "cell_type": "code",
      "metadata": {
        "id": "e7C90UaTvsRh",
        "colab_type": "code",
        "outputId": "77aaabe4-7e44-4f64-e2f3-1593ed905683",
        "colab": {
          "base_uri": "https://localhost:8080/",
          "height": 70
        }
      },
      "source": [
        "df.Target.value_counts()"
      ],
      "execution_count": 0,
      "outputs": [
        {
          "output_type": "execute_result",
          "data": {
            "text/plain": [
              "0    20672\n",
              "1     6012\n",
              "Name: Target, dtype: int64"
            ]
          },
          "metadata": {
            "tags": []
          },
          "execution_count": 9
        }
      ]
    },
    {
      "cell_type": "code",
      "metadata": {
        "id": "16EI91agcNGM",
        "colab_type": "code",
        "outputId": "7f14cbd1-9686-491e-9c5c-4732584f8d6b",
        "colab": {
          "base_uri": "https://localhost:8080/",
          "height": 297
        }
      },
      "source": [
        "sns.countplot(x='Target', data = df)"
      ],
      "execution_count": 0,
      "outputs": [
        {
          "output_type": "execute_result",
          "data": {
            "text/plain": [
              "<matplotlib.axes._subplots.AxesSubplot at 0x7f3f94058748>"
            ]
          },
          "metadata": {
            "tags": []
          },
          "execution_count": 10
        },
        {
          "output_type": "display_data",
          "data": {
            "image/png": "[encoded data removed]",
            "text/plain": [
              "<Figure size 432x288 with 1 Axes>"
            ]
          },
          "metadata": {
            "tags": [],
            "needs_background": "light"
          }
        }
      ]
    },
    {
      "cell_type": "code",
      "metadata": {
        "id": "nZ0RFQEocOwL",
        "colab_type": "code",
        "colab": {}
      },
      "source": [
        "df_heat = df.dropna()[['x', 'y', 'width', 'height']].copy()\n",
        "df_heat['x_2'] = df_heat['x'] + df_heat['width']\n",
        "df_heat['y_2'] = df_heat['y'] + df_heat['height']\n",
        "df_heat['x_center'] = df_heat['x'] + df_heat['width'] / 2\n",
        "df_heat['y_center'] = df_heat['y'] + df_heat['height'] / 2\n",
        "df_heat['area'] = df_heat['width'] * df_heat['height']"
      ],
      "execution_count": 0,
      "outputs": []
    },
    {
      "cell_type": "code",
      "metadata": {
        "id": "FiiRGCTVcO3D",
        "colab_type": "code",
        "outputId": "afe3451a-3234-4925-c924-f7dd9ac1ee2f",
        "colab": {
          "base_uri": "https://localhost:8080/",
          "height": 458
        }
      },
      "source": [
        "sns.jointplot(x = 'x_center', y = 'y_center', data = df_heat, kind = 'hex', gridsize = 20,ylim = (0,1024),xlim=(0, 1024), color = 'lightblue')"
      ],
      "execution_count": 0,
      "outputs": [
        {
          "output_type": "execute_result",
          "data": {
            "text/plain": [
              "<seaborn.axisgrid.JointGrid at 0x7f3f93f795f8>"
            ]
          },
          "metadata": {
            "tags": []
          },
          "execution_count": 12
        },
        {
          "output_type": "display_data",
          "data": {
            "image/png": "[encoded data removed]",
            "text/plain": [
              "<Figure size 432x432 with 3 Axes>"
            ]
          },
          "metadata": {
            "tags": [],
            "needs_background": "light"
          }
        }
      ]
    },
    {
      "cell_type": "code",
      "metadata": {
        "id": "Ya3ONSm0cO55",
        "colab_type": "code",
        "outputId": "6732f075-7ecc-4db7-e7a7-53501cf83ed9",
        "colab": {
          "base_uri": "https://localhost:8080/",
          "height": 282
        }
      },
      "source": [
        "sns.boxplot(data=df_heat[['x','y','width','height']],palette='rainbow')"
      ],
      "execution_count": 0,
      "outputs": [
        {
          "output_type": "execute_result",
          "data": {
            "text/plain": [
              "<matplotlib.axes._subplots.AxesSubplot at 0x7f3f79e465c0>"
            ]
          },
          "metadata": {
            "tags": []
          },
          "execution_count": 13
        },
        {
          "output_type": "display_data",
          "data": {
            "image/png": "[encoded data removed]",
            "text/plain": [
              "<Figure size 432x288 with 1 Axes>"
            ]
          },
          "metadata": {
            "tags": [],
            "needs_background": "light"
          }
        }
      ]
    },
    {
      "cell_type": "code",
      "metadata": {
        "id": "6lWdJ-eacO8C",
        "colab_type": "code",
        "outputId": "2eddf45e-cc87-4eb1-f974-941f282a5cf9",
        "colab": {
          "base_uri": "https://localhost:8080/",
          "height": 406
        }
      },
      "source": [
        "fig, ax = plt.subplots(nrows=1, ncols=2, figsize=(18, 6))\n",
        "sns.distplot(df_heat['x'], ax =ax[0])\n",
        "sns.distplot(df_heat['y'], ax= ax[1], vertical = True)"
      ],
      "execution_count": 0,
      "outputs": [
        {
          "output_type": "execute_result",
          "data": {
            "text/plain": [
              "<matplotlib.axes._subplots.AxesSubplot at 0x7f3f79d5eba8>"
            ]
          },
          "metadata": {
            "tags": []
          },
          "execution_count": 14
        },
        {
          "output_type": "display_data",
          "data": {
            "image/png": "[encoded data removed]",
            "text/plain": [
              "<Figure size 1296x432 with 2 Axes>"
            ]
          },
          "metadata": {
            "tags": [],
            "needs_background": "light"
          }
        }
      ]
    },
    {
      "cell_type": "code",
      "metadata": {
        "id": "TY49n6CdcO-Y",
        "colab_type": "code",
        "colab": {}
      },
      "source": [
        "# load and shuffle images\n",
        "image_names = os.listdir(Dir + 'stage_2_train_images')\n",
        "random.seed(234)\n",
        "random.shuffle(image_names)\n",
        "image_names[0:10]"
      ],
      "execution_count": 0,
      "outputs": []
    },
    {
      "cell_type": "code",
      "metadata": {
        "id": "DhFoeNXcvsUg",
        "colab_type": "code",
        "colab": {}
      },
      "source": [
        "# load and shuffle images\n",
        "image_names = os.listdir(Dir + 'stage_2_train_images')\n",
        "random.seed(234)\n",
        "random.shuffle(image_names)\n",
        "image_names[0:10]"
      ],
      "execution_count": 0,
      "outputs": []
    },
    {
      "cell_type": "code",
      "metadata": {
        "id": "qpaSW14TvsWz",
        "colab_type": "code",
        "colab": {}
      },
      "source": [
        "# split into train, validation, test filenames\n",
        "number_train_samples = round(num_of_images * 0.7)\n",
        "number_valid_samples = round(num_of_images * 0.2)\n",
        "number_test_samples = num_of_images - number_train_samples - number_valid_samples\n",
        "\n",
        "train_image = image_names[:number_train_samples]\n",
        "valid_image = image_names[number_train_samples:number_train_samples+ number_valid_samples]\n",
        "test_image = image_names[number_train_samples+ number_valid_samples:]\n",
        "\n",
        "print('number of train samples', len(train_image))\n",
        "print('number of valid samples', len(valid_image))\n",
        "print('number of test samples', len(test_image))"
      ],
      "execution_count": 0,
      "outputs": []
    },
    {
      "cell_type": "code",
      "metadata": {
        "id": "NnNltVDYv6W3",
        "colab_type": "code",
        "colab": {}
      },
      "source": [
        "# split csv file\n",
        "train_name = [i.split('.')[0] for i in train_image]\n",
        "valid_name = [i.split('.')[0] for i in valid_image]\n",
        "test_name = [i.split('.')[0] for i in test_image]\n",
        "\n",
        "print(train_name[0:1])\n",
        "print(valid_name[0:1])\n",
        "print(test_name[0:1])"
      ],
      "execution_count": 0,
      "outputs": []
    },
    {
      "cell_type": "code",
      "metadata": {
        "id": "OtvE7F2Ev-1L",
        "colab_type": "code",
        "colab": {}
      },
      "source": [
        "train_data = df.loc[df.patientId.isin(train_name)]\n",
        "valid_data = df.loc[df.patientId.isin(valid_name)]\n",
        "test_data = df.loc[df.patientId.isin(test_name)]\n",
        "\n",
        "print('number of train samples', train_data.shape)\n",
        "print('number of valid samples', valid_data.shape)\n",
        "print('number of test samples', test_data.shape)"
      ],
      "execution_count": 0,
      "outputs": []
    },
    {
      "cell_type": "code",
      "metadata": {
        "id": "lws_sRCtwEhU",
        "colab_type": "code",
        "colab": {}
      },
      "source": [
        "print(train_data.Target.value_counts()[0]/train_data.Target.value_counts()[1])\n",
        "print(valid_data.Target.value_counts()[0]/valid_data.Target.value_counts()[1])\n",
        "print(test_data.Target.value_counts()[0]/test_data.Target.value_counts()[1])"
      ],
      "execution_count": 0,
      "outputs": []
    },
    {
      "cell_type": "markdown",
      "metadata": {
        "id": "FgBadm7fwJdf",
        "colab_type": "text"
      },
      "source": [
        "## Load Image Data(This part is in the first ipynb file)"
      ]
    },
    {
      "cell_type": "code",
      "metadata": {
        "id": "G9iWMhNwwQoL",
        "colab_type": "code",
        "colab": {}
      },
      "source": [
        "patientId = df['patientId'][0]\n",
        "dcm_file = Dir+'stage_2_train_images/'+'%s.dcm' % patientId\n",
        "dcm_data = pydicom.read_file(dcm_file)\n",
        "print(dcm_data)"
      ],
      "execution_count": 0,
      "outputs": []
    },
    {
      "cell_type": "code",
      "metadata": {
        "id": "Wq4VOx0swRhr",
        "colab_type": "code",
        "colab": {}
      },
      "source": [
        "im = dcm_data.pixel_array\n",
        "pylab.imshow(im, cmap=pylab.cm.gist_gray)\n",
        "pylab.axis('off')"
      ],
      "execution_count": 0,
      "outputs": []
    },
    {
      "cell_type": "code",
      "metadata": {
        "id": "hKz63GmODmT0",
        "colab_type": "code",
        "colab": {}
      },
      "source": [
        "#Find the attribute of DCM_file\n",
        "patientId = data['patientId'][0]\n",
        "dcm_file = 'E:/Dataset/stage_2_train_images/%s.dcm' % patientId\n",
        "dcm_data = pydicom.read_file(dcm_file)\n",
        "print(dcm_data)"
      ],
      "execution_count": 0,
      "outputs": []
    },
    {
      "cell_type": "code",
      "metadata": {
        "id": "K8VZNKNxDtb5",
        "colab_type": "code",
        "colab": {}
      },
      "source": [
        "# show the image hidden in the dcm file\n",
        "image = dcm_data.pixel_array\n",
        "pylab.imshow(image, cmap=pylab.cm.gist_gray)\n",
        "pylab.axis('off')"
      ],
      "execution_count": 0,
      "outputs": []
    },
    {
      "cell_type": "markdown",
      "metadata": {
        "id": "0kZV76c3slVD",
        "colab_type": "text"
      },
      "source": [
        "#### Create bounding box"
      ]
    },
    {
      "cell_type": "code",
      "metadata": {
        "id": "4ur4t1iKoYMO",
        "colab_type": "code",
        "colab": {}
      },
      "source": [
        "# Create Bounding box for images\n",
        "row = df.loc[df['patientId'] == '00436515-870c-4b36-a041-de91049b9ab4']\n",
        "unhealth_person_patientId ='00436515-870c-4b36-a041-de91049b9ab4'\n",
        "dcm_file_1 = Dir+'stage_2_train_images/'+'%s.dcm' % unhealth_person_patientId\n",
        "dcm_data_1 = pydicom.read_file(dcm_file_1)\n",
        "im_1 = dcm_data_1.pixel_array\n",
        "fig,ax = plt.subplots(1)\n",
        "pylab.imshow(im_1, cmap=pylab.cm.gist_gray)\n",
        "pylab.axis('on')\n",
        "pylab.plot(row['x'], row['y'], 's')\n",
        "rect = patches.Rectangle(xy=(row.loc[4,'x'], row.loc[4,'y']),width=row.loc[4,'width'],\n",
        "                         height=row.loc[4,'height'],linewidth=1,edgecolor='r',facecolor='none')\n",
        "ax.add_patch(rect)"
      ],
      "execution_count": 0,
      "outputs": []
    },
    {
      "cell_type": "code",
      "metadata": {
        "id": "gjwoCbdrssZD",
        "colab_type": "code",
        "colab": {}
      },
      "source": [
        "unhealthy = df.loc[df.Target==1]\n",
        "unhealthy.reset_index(inplace = True, drop =True)\n",
        "unhealthy_example = unhealthy[0:10]\n",
        "unhealthy_example"
      ],
      "execution_count": 0,
      "outputs": []
    },
    {
      "cell_type": "code",
      "metadata": {
        "id": "S_UHieCVsvek",
        "colab_type": "code",
        "colab": {}
      },
      "source": [
        "for patient in unhealthy_example['patientId']:\n",
        "    i = 0\n",
        "    row = unhealthy_example.loc[unhealthy_example['patientId'] == patient]\n",
        "    dcm_file = Dir+'stage_2_train_images/'+'%s.dcm' % patient\n",
        "    dcm_data = pydicom.read_file(dcm_file)\n",
        "    im = dcm_data.pixel_array\n",
        "    pylab.imshow(im, cmap=pylab.cm.gist_gray)\n",
        "    pylab.axis('off')\n",
        "    fig,ax = plt.subplots(1)\n",
        "    pylab.plot(row['x'], row['y'], 's')\n",
        "    rect = patches.Rectangle(xy=(unhealthy_example.loc[i,'x'],\n",
        "                                 unhealthy_example.loc[i,'y']),\n",
        "                             width=unhealthy_example.loc[i,'width'],\n",
        "                             height=unhealthy_example.loc[i, 'height'],\n",
        "                             linewidth=1,edgecolor='r',facecolor='none')\n",
        "    i = i+1\n",
        "    ax.add_patch(rect)"
      ],
      "execution_count": 0,
      "outputs": []
    },
    {
      "cell_type": "markdown",
      "metadata": {
        "id": "LxzTWN8Ysc8r",
        "colab_type": "text"
      },
      "source": [
        "#### Convert to jpg format"
      ]
    },
    {
      "cell_type": "code",
      "metadata": {
        "id": "3Dz30yFWEDUn",
        "colab_type": "code",
        "colab": {}
      },
      "source": [
        "# Convert DCM file to JPG file\n",
        "# Specify the .dcm folder path\n",
        "folder_path = \"E:\\Dataset\\stage_2_train_images\"\n",
        "# Specify the output jpg folder path\n",
        "jpg_folder_path = \"E:\\Dataset\\JPG_train\"\n",
        "images_path = os.listdir(folder_path)\n",
        "for n, image in enumerate(images_path):\n",
        "    ds = dicom.dcmread(os.path.join(folder_path, image))\n",
        "    pixel_array_numpy = ds.pixel_array\n",
        "\n",
        "    image = image.replace('.dcm', '.jpg')\n",
        "    cv2.imwrite(os.path.join(jpg_folder_path, image), pixel_array_numpy)\n",
        "    if n % 1000 == 0:\n",
        "        print('{} image converted'.format(n))"
      ],
      "execution_count": 0,
      "outputs": []
    },
    {
      "cell_type": "markdown",
      "metadata": {
        "id": "MIXCPKW_s1LO",
        "colab_type": "text"
      },
      "source": [
        "#### Split images into training, validation, and testing datasets"
      ]
    },
    {
      "cell_type": "code",
      "metadata": {
        "id": "StiboyWvwoWJ",
        "colab_type": "code",
        "colab": {}
      },
      "source": [
        "# Create folders for train, validation and test\n",
        "import shutil\n",
        "jpg_path = 'E:/Dataset/JPG_train/'\n",
        "for f in train_name:\n",
        "    shutil.move(jpg_path+ f +'.jpg', 'E:/Dataset/train')\n",
        "\n",
        "for f in valid_name:\n",
        "    shutil.move(jpg_path+ f +'.jpg', 'E:/Dataset/validation')\n",
        "    \n",
        "for f in test_name:\n",
        "    shutil.move(jpg_path+ f +'.jpg', 'E:/Dataset/test')"
      ],
      "execution_count": 0,
      "outputs": []
    },
    {
      "cell_type": "code",
      "metadata": {
        "id": "3FkkJqttw9qS",
        "colab_type": "code",
        "colab": {}
      },
      "source": [
        "#Sort valure in order to match the paitient and csv file\n",
        "train_data.sort_values('patientId',inplace = True)\n",
        "train_data.reset_index(inplace = True,drop = True)\n",
        "train_image.sort()\n",
        "train_data[0:5]"
      ],
      "execution_count": 0,
      "outputs": []
    },
    {
      "cell_type": "code",
      "metadata": {
        "id": "mG0maDhtxFk3",
        "colab_type": "code",
        "colab": {}
      },
      "source": [
        "train_name.sort()\n",
        "train_name[0:5]"
      ],
      "execution_count": 0,
      "outputs": []
    },
    {
      "cell_type": "code",
      "metadata": {
        "id": "KjjYFOoCxJDS",
        "colab_type": "code",
        "colab": {}
      },
      "source": [
        "# Validation\n",
        "valid_data.sort_values('patientId',inplace = True)\n",
        "valid_data.reset_index(inplace = True,drop = True)\n",
        "valid_name.sort()\n",
        "valid_data[0:5]"
      ],
      "execution_count": 0,
      "outputs": []
    },
    {
      "cell_type": "code",
      "metadata": {
        "id": "9pXIiPGhxLDS",
        "colab_type": "code",
        "colab": {}
      },
      "source": [
        "valid_name[0:5]"
      ],
      "execution_count": 0,
      "outputs": []
    },
    {
      "cell_type": "code",
      "metadata": {
        "id": "vD-hJ-V-xM5A",
        "colab_type": "code",
        "colab": {}
      },
      "source": [
        "# test \n",
        "test_data.sort_values('patientId',inplace = True)\n",
        "test_data.reset_index(inplace = True,drop = True)\n",
        "test_name.sort()\n",
        "test_data[0:5]"
      ],
      "execution_count": 0,
      "outputs": []
    },
    {
      "cell_type": "code",
      "metadata": {
        "id": "dcybbWoRxVkw",
        "colab_type": "code",
        "colab": {}
      },
      "source": [
        "test_name[0:5]"
      ],
      "execution_count": 0,
      "outputs": []
    },
    {
      "cell_type": "code",
      "metadata": {
        "id": "S1Q11OcQxXXS",
        "colab_type": "code",
        "colab": {}
      },
      "source": [
        "# load train image data\n",
        "train_images = []\n",
        "train_path = 'E:/Dataset/train/'\n",
        "for n, file in enumerate(train_name):\n",
        "    \n",
        "    img_path = train_path + file+'.jpg'\n",
        "    img = cv2.imread(img_path)\n",
        "    resize_image =  cv2.resize(img, (340,340), interpolation = cv2.INTER_AREA)\n",
        "    train_images.append(resize_image)\n",
        "    if n % 1000 == 0:\n",
        "        print('{} image loaded'.format(n))\n",
        "x_train = np.array(train_images)"
      ],
      "execution_count": 0,
      "outputs": []
    },
    {
      "cell_type": "code",
      "metadata": {
        "id": "BKGmcBt2xfdq",
        "colab_type": "code",
        "colab": {}
      },
      "source": [
        "# load validation image data\n",
        "valid_images = []\n",
        "valid_path = 'E:/Dataset/validation/'\n",
        "for n, file in enumerate(valid_name):\n",
        "    \n",
        "    img_path = valid_path + file+'.jpg'\n",
        "    img = cv2.imread(img_path)\n",
        "    resize_image =  cv2.resize(img, (340,340), interpolation = cv2.INTER_AREA)\n",
        "    valid_images.append(resize_image)\n",
        "    if n % 1000 == 0:\n",
        "        print('{} image loaded'.format(n))\n",
        "x_valid = np.array(valid_images)"
      ],
      "execution_count": 0,
      "outputs": []
    },
    {
      "cell_type": "code",
      "metadata": {
        "id": "KqXIOTKjxhjL",
        "colab_type": "code",
        "colab": {}
      },
      "source": [
        "# load test image data\n",
        "test_images = []\n",
        "test_path = 'E:/Dataset/test/'\n",
        "for n, file in enumerate(test_name):\n",
        "    \n",
        "    img_path = test_path + file+'.jpg'\n",
        "    img = cv2.imread(img_path)\n",
        "    resize_image =  cv2.resize(img, (340,340), interpolation = cv2.INTER_AREA)\n",
        "    test_images.append(resize_image)\n",
        "    if n % 1000 == 0:\n",
        "        print('{} image loaded'.format(n))\n",
        "x_test = np.array(test_images)"
      ],
      "execution_count": 0,
      "outputs": []
    },
    {
      "cell_type": "code",
      "metadata": {
        "id": "Wa73gIudxouS",
        "colab_type": "code",
        "colab": {}
      },
      "source": [
        "print('the shape of training:',x_train.shape )\n",
        "print('the shape of validation:',x_valid.shape )\n",
        "print('the shape of test:', x_test.shape )"
      ],
      "execution_count": 0,
      "outputs": []
    },
    {
      "cell_type": "code",
      "metadata": {
        "id": "JboxOdjyxrBv",
        "colab_type": "code",
        "colab": {}
      },
      "source": [
        "savez_compressed('val_data_1.npz', x_valid)\n",
        "savez_compressed('test_data_1.npz', x_test)"
      ],
      "execution_count": 0,
      "outputs": []
    },
    {
      "cell_type": "code",
      "metadata": {
        "id": "f0ldKqdvxr5W",
        "colab_type": "code",
        "colab": {}
      },
      "source": [
        "savez_compressed('train_data_1.npz', x_train)"
      ],
      "execution_count": 0,
      "outputs": []
    },
    {
      "cell_type": "code",
      "metadata": {
        "id": "w8bDtyEFxuEN",
        "colab_type": "code",
        "colab": {}
      },
      "source": [
        "train_data.to_csv('train_data_1.csv',index = False)\n",
        "valid_data.to_csv('valid_data_1.csv', index= False)\n",
        "test_data.to_csv('test_data_1.csv',index = False)"
      ],
      "execution_count": 0,
      "outputs": []
    },
    {
      "cell_type": "markdown",
      "metadata": {
        "id": "AGn4_Dh9xzw6",
        "colab_type": "text"
      },
      "source": [
        "## Load Preprocessed CSV and NPZ files (Load this file from here)"
      ]
    },
    {
      "cell_type": "markdown",
      "metadata": {
        "id": "82n400LVSyUy",
        "colab_type": "text"
      },
      "source": [
        "* Since the image size is too large to be uploaded in the google drive file, we did a more comprehensive EDA in local computer, which is saved in another python file, along with this one."
      ]
    },
    {
      "cell_type": "code",
      "metadata": {
        "id": "Yry3Sdrwx6iv",
        "colab_type": "code",
        "colab": {}
      },
      "source": [
        "path = '/content/drive/My Drive/Deep learning project/'\n",
        "train_data = load(path+'train_data_1.npz')\n",
        "x_train = train_data['arr_0']\n",
        "val_data = load(path+'val_data_1.npz')\n",
        "x_val = val_data['arr_0']\n",
        "test_data = load(path + 'test_data_1.npz')\n",
        "x_test = test_data['arr_0']"
      ],
      "execution_count": 0,
      "outputs": []
    },
    {
      "cell_type": "code",
      "metadata": {
        "id": "vX4h-TseyFnP",
        "colab_type": "code",
        "colab": {}
      },
      "source": [
        "train = pd.read_csv(path + \"train_data.csv\")\n",
        "valid = pd.read_csv(path + \"valid_data.csv\")\n",
        "test = pd.read_csv(path + \"test_data.csv\")"
      ],
      "execution_count": 0,
      "outputs": []
    },
    {
      "cell_type": "code",
      "metadata": {
        "id": "C2rwNZib_JL5",
        "colab_type": "code",
        "outputId": "78f8f148-bf80-49f0-edf6-ac5569e7ed94",
        "colab": {
          "base_uri": "https://localhost:8080/",
          "height": 70
        }
      },
      "source": [
        "# make sure the shape is match\n",
        "print(\"Image train dataset shape: \", x_train.shape, \" train dataset shape: \", train.shape)\n",
        "print(\"Image validation dataset shape: \", x_val.shape, \"validation dataset shape: \", valid.shape)\n",
        "print(\"Image test dataset shape: \", x_test.shape, \"test dataset shape: \", test.shape)"
      ],
      "execution_count": 0,
      "outputs": [
        {
          "output_type": "stream",
          "text": [
            "Image train dataset shape:  (18679, 340, 340, 1)  train dataset shape:  (18679, 6)\n",
            "Image validation dataset shape:  (5337, 340, 340, 1) validation dataset shape:  (5337, 6)\n",
            "Image test dataset shape:  (2668, 340, 340, 1) test dataset shape:  (2668, 6)\n"
          ],
          "name": "stdout"
        }
      ]
    },
    {
      "cell_type": "code",
      "metadata": {
        "id": "JZE5n1nAAY3C",
        "colab_type": "code",
        "outputId": "c11a93d3-756d-4390-c5b6-eb562d45e077",
        "colab": {
          "base_uri": "https://localhost:8080/",
          "height": 195
        }
      },
      "source": [
        "train.head()"
      ],
      "execution_count": 0,
      "outputs": [
        {
          "output_type": "execute_result",
          "data": {
            "text/html": [
              "<div>\n",
              "<style scoped>\n",
              "    .dataframe tbody tr th:only-of-type {\n",
              "        vertical-align: middle;\n",
              "    }\n",
              "\n",
              "    .dataframe tbody tr th {\n",
              "        vertical-align: top;\n",
              "    }\n",
              "\n",
              "    .dataframe thead th {\n",
              "        text-align: right;\n",
              "    }\n",
              "</style>\n",
              "<table border=\"1\" class=\"dataframe\">\n",
              "  <thead>\n",
              "    <tr style=\"text-align: right;\">\n",
              "      <th></th>\n",
              "      <th>patientId</th>\n",
              "      <th>x</th>\n",
              "      <th>y</th>\n",
              "      <th>width</th>\n",
              "      <th>height</th>\n",
              "      <th>Target</th>\n",
              "    </tr>\n",
              "  </thead>\n",
              "  <tbody>\n",
              "    <tr>\n",
              "      <th>0</th>\n",
              "      <td>001031d9-f904-4a23-b3e5-2c088acd19c6</td>\n",
              "      <td>66.0</td>\n",
              "      <td>160.0</td>\n",
              "      <td>373.0</td>\n",
              "      <td>608.0</td>\n",
              "      <td>1</td>\n",
              "    </tr>\n",
              "    <tr>\n",
              "      <th>1</th>\n",
              "      <td>0010f549-b242-4e94-87a8-57d79de215fc</td>\n",
              "      <td>NaN</td>\n",
              "      <td>NaN</td>\n",
              "      <td>NaN</td>\n",
              "      <td>NaN</td>\n",
              "      <td>0</td>\n",
              "    </tr>\n",
              "    <tr>\n",
              "      <th>2</th>\n",
              "      <td>0022073f-cec8-42ec-ab5f-bc2314649235</td>\n",
              "      <td>575.0</td>\n",
              "      <td>232.0</td>\n",
              "      <td>246.0</td>\n",
              "      <td>528.0</td>\n",
              "      <td>1</td>\n",
              "    </tr>\n",
              "    <tr>\n",
              "      <th>3</th>\n",
              "      <td>0022995a-45eb-4cfa-9a59-cd15f5196c64</td>\n",
              "      <td>NaN</td>\n",
              "      <td>NaN</td>\n",
              "      <td>NaN</td>\n",
              "      <td>NaN</td>\n",
              "      <td>0</td>\n",
              "    </tr>\n",
              "    <tr>\n",
              "      <th>4</th>\n",
              "      <td>002c591d-df62-4e34-8eda-838c664430a9</td>\n",
              "      <td>NaN</td>\n",
              "      <td>NaN</td>\n",
              "      <td>NaN</td>\n",
              "      <td>NaN</td>\n",
              "      <td>0</td>\n",
              "    </tr>\n",
              "  </tbody>\n",
              "</table>\n",
              "</div>"
            ],
            "text/plain": [
              "                              patientId      x      y  width  height  Target\n",
              "0  001031d9-f904-4a23-b3e5-2c088acd19c6   66.0  160.0  373.0   608.0       1\n",
              "1  0010f549-b242-4e94-87a8-57d79de215fc    NaN    NaN    NaN     NaN       0\n",
              "2  0022073f-cec8-42ec-ab5f-bc2314649235  575.0  232.0  246.0   528.0       1\n",
              "3  0022995a-45eb-4cfa-9a59-cd15f5196c64    NaN    NaN    NaN     NaN       0\n",
              "4  002c591d-df62-4e34-8eda-838c664430a9    NaN    NaN    NaN     NaN       0"
            ]
          },
          "metadata": {
            "tags": []
          },
          "execution_count": 9
        }
      ]
    },
    {
      "cell_type": "code",
      "metadata": {
        "id": "GKWw_uZ2AfUx",
        "colab_type": "code",
        "colab": {}
      },
      "source": [
        "y_train = train['Target']\n",
        "y_valid = valid['Target']\n",
        "y_test = test['Target']"
      ],
      "execution_count": 0,
      "outputs": []
    },
    {
      "cell_type": "markdown",
      "metadata": {
        "id": "qffhLFVEPIht",
        "colab_type": "text"
      },
      "source": [
        "## Modeling"
      ]
    },
    {
      "cell_type": "markdown",
      "metadata": {
        "id": "I3eW5PnXAaVX",
        "colab_type": "text"
      },
      "source": [
        "#### Access Matrix"
      ]
    },
    {
      "cell_type": "code",
      "metadata": {
        "id": "sy5V3rXiAepe",
        "colab_type": "code",
        "colab": {}
      },
      "source": [
        "def Find_Optimal_Cutoff(target, predicted):\n",
        "  \n",
        "    fpr, tpr, threshold = roc_curve(target, predicted)\n",
        "    i = np.arange(len(tpr)) \n",
        "    roc = pd.DataFrame({'tf' : pd.Series(tpr-(1-fpr), index=i), 'threshold' : pd.Series(threshold, index=i)})\n",
        "    roc_t = roc.iloc[(roc.tf-0).abs().argsort()[:1]]\n",
        "\n",
        "    return list(roc_t['threshold']) "
      ],
      "execution_count": 0,
      "outputs": []
    },
    {
      "cell_type": "code",
      "metadata": {
        "id": "lleiIw-pApwv",
        "colab_type": "code",
        "colab": {}
      },
      "source": [
        "def model_report(model, x_train, x_val, x_test, y_train, y_valid,y_test):\n",
        "  #step1：get the cutoff point for each model\n",
        "  class_train_preds = model.predict(x_train)\n",
        "  threshold = Find_Optimal_Cutoff(y_train, class_train_preds)\n",
        "\n",
        "  #step2:the report of train dataset\n",
        "  class_train_preds_class =model.predict_classes(x_train)\n",
        "\n",
        "  print('the classification Report for train dataset is:')\n",
        "  print(classification_report(y_train, class_train_preds_class))\n",
        "  print('the confusion matrix for Train Dataset is:' )\n",
        "  print(confusion_matrix(y_train,class_train_preds_class))\n",
        "  print('-'*100)\n",
        "\n",
        "  #step3: the report of validation dataset\n",
        "  class_val_preds = model.predict(x_val)\n",
        "  class_val_preds_class =model.predict_classes(x_val)\n",
        "  print('the classification Report for val dataset is:')\n",
        "  print(classification_report(y_valid, class_val_preds_class))\n",
        "  print('the confusion matrix for val Dataset is:' )\n",
        "  print(confusion_matrix(y_valid,class_val_preds_class))\n",
        "  print('-'*100)\n",
        " \n",
        "  # step 4: the report of test dataset\n",
        "  class_test_preds = model.predict(x_test)\n",
        "  class_test_preds_class =model.predict_classes(x_test)\n",
        "\n",
        "  print('the classification Report for test dataset is:')\n",
        "  print(classification_report(y_test, class_test_preds_class))\n",
        "  print('the confusion matrix for Test Dataset is:' )\n",
        "  print(confusion_matrix(y_test,class_test_preds_class))"
      ],
      "execution_count": 0,
      "outputs": []
    },
    {
      "cell_type": "markdown",
      "metadata": {
        "id": "dAt_ZRGsPMDj",
        "colab_type": "text"
      },
      "source": [
        "#### Modeling from Yongxin Cui"
      ]
    },
    {
      "cell_type": "code",
      "metadata": {
        "id": "NAeCfzqwA27N",
        "colab_type": "code",
        "colab": {}
      },
      "source": [
        "# Model created by Yongxin Cui(Will)\n",
        "yxc_model = tf.keras.Sequential()\n",
        "\n",
        "# Must define the input shape in the first layer of the neural network\n",
        "yxc_model.add(tf.keras.layers.Conv2D(filters=128, kernel_size=2, padding='same', activation='relu', input_shape=(340,340,1))) \n",
        "yxc_model.add(tf.keras.layers.MaxPooling2D(pool_size=4))\n",
        "\n",
        "yxc_model.add(tf.keras.layers.Conv2D(filters=32, kernel_size=2, padding='same', activation='relu'))\n",
        "yxc_model.add(tf.keras.layers.MaxPooling2D(pool_size=4))\n",
        "yxc_model.add(tf.keras.layers.Dropout(0.2))\n",
        "yxc_model.add(tf.keras.layers.Flatten())\n",
        "yxc_model.add(tf.keras.layers.Dense(64, activation='relu'))\n",
        "yxc_model.add(tf.keras.layers.Dropout(0.2))\n",
        "yxc_model.add(tf.keras.layers.Dense(64, activation='relu'))\n",
        "yxc_model.add(tf.keras.layers.Dropout(0.2))\n",
        "yxc_model.add(tf.keras.layers.Dense(32, activation='relu'))\n",
        "yxc_model.add(tf.keras.layers.Dropout(0.2))\n",
        "yxc_model.add(tf.keras.layers.Dense(1, activation='sigmoid'))\n",
        "\n",
        "yxc_model.compile(loss='binary_crossentropy', optimizer='adam', metrics=['accuracy'])"
      ],
      "execution_count": 0,
      "outputs": []
    },
    {
      "cell_type": "code",
      "metadata": {
        "id": "sFkG4N6dCXYf",
        "colab_type": "code",
        "colab": {}
      },
      "source": [
        "es = EarlyStopping(monitor='val_loss', mode='min', \n",
        "                   patience=5, \n",
        "                   verbose=1)"
      ],
      "execution_count": 0,
      "outputs": []
    },
    {
      "cell_type": "code",
      "metadata": {
        "id": "L9c3IhF7Cc7O",
        "colab_type": "code",
        "outputId": "62f982c9-dc70-40a4-f5bd-71498d3b7b74",
        "colab": {
          "base_uri": "https://localhost:8080/",
          "height": 316
        }
      },
      "source": [
        "history = yxc_model.fit(x_train, y_train, \n",
        "          validation_data=(x_val, y_valid),\n",
        "          epochs=30, batch_size= 50, \n",
        "          verbose=1, callbacks=[es]) # 0 = dont show verbose, 1 = show it!"
      ],
      "execution_count": 0,
      "outputs": [
        {
          "output_type": "stream",
          "text": [
            "Epoch 1/30\n",
            "374/374 [==============================] - 569s 2s/step - loss: 0.4723 - accuracy: 0.7783 - val_loss: 0.4196 - val_accuracy: 0.8098\n",
            "Epoch 2/30\n",
            "374/374 [==============================] - 514s 1s/step - loss: 0.4464 - accuracy: 0.7945 - val_loss: 0.4147 - val_accuracy: 0.8091\n",
            "Epoch 3/30\n",
            "374/374 [==============================] - 518s 1s/step - loss: 0.4417 - accuracy: 0.7981 - val_loss: 0.4177 - val_accuracy: 0.8023\n",
            "Epoch 4/30\n",
            "374/374 [==============================] - 516s 1s/step - loss: 0.4332 - accuracy: 0.7984 - val_loss: 0.4146 - val_accuracy: 0.8102\n",
            "Epoch 5/30\n",
            "374/374 [==============================] - 505s 1s/step - loss: 0.4264 - accuracy: 0.8056 - val_loss: 0.4187 - val_accuracy: 0.8027\n",
            "Epoch 6/30\n",
            "374/374 [==============================] - 503s 1s/step - loss: 0.4175 - accuracy: 0.8096 - val_loss: 0.4095 - val_accuracy: 0.8156\n",
            "Epoch 7/30\n",
            "374/374 [==============================] - 495s 1s/step - loss: 0.4138 - accuracy: 0.8134 - val_loss: 0.4109 - val_accuracy: 0.8091\n",
            "Epoch 8/30\n",
            "374/374 [==============================] - 520s 1s/step - loss: 0.4025 - accuracy: 0.8188 - val_loss: 0.4094 - val_accuracy: 0.8130\n",
            "Epoch 00008: early stopping\n"
          ],
          "name": "stdout"
        }
      ]
    },
    {
      "cell_type": "code",
      "metadata": {
        "id": "sgCJdGQXr9Ey",
        "colab_type": "code",
        "colab": {}
      },
      "source": [
        "yxc_model.save(path+'Project_model_yxc.h5')"
      ],
      "execution_count": 0,
      "outputs": []
    },
    {
      "cell_type": "code",
      "metadata": {
        "id": "IAPx5y7-TLTQ",
        "colab_type": "code",
        "outputId": "7f75a34c-f025-4d24-b281-759aca9d8249",
        "colab": {
          "base_uri": "https://localhost:8080/",
          "height": 295
        }
      },
      "source": [
        "# let's see the training and validation loss by epoch\n",
        "history_dict = history.history\n",
        "loss_values = history_dict['loss'] # you can change this\n",
        "val_loss_values = history_dict['val_loss'] # you can also change this\n",
        "epochs = range(1, len(loss_values) + 1) #acc wasn't defined before\n",
        "plt.plot(epochs, loss_values, 'bo', label='Training loss')\n",
        "plt.plot(epochs, val_loss_values, 'orange', label='Validation loss')\n",
        "plt.title('Training and validation loss value')\n",
        "plt.xlabel('Epochs')\n",
        "plt.ylabel('Loss')\n",
        "plt.legend()\n",
        "plt.show()"
      ],
      "execution_count": 0,
      "outputs": [
        {
          "output_type": "display_data",
          "data": {
            "image/png": "[encoded data removed]",
            "text/plain": [
              "<Figure size 432x288 with 1 Axes>"
            ]
          },
          "metadata": {
            "tags": [],
            "needs_background": "light"
          }
        }
      ]
    },
    {
      "cell_type": "code",
      "metadata": {
        "id": "MWdRk8O0F8YA",
        "colab_type": "code",
        "outputId": "1583c665-823e-4c7e-9429-e66cc971b45f",
        "colab": {
          "base_uri": "https://localhost:8080/",
          "height": 811
        }
      },
      "source": [
        "model_report(yxc_model, x_train, x_val, x_test, y_train, y_valid,y_test)"
      ],
      "execution_count": 0,
      "outputs": [
        {
          "output_type": "stream",
          "text": [
            "WARNING:tensorflow:From <ipython-input-12-5e225d0203e0>:7: Sequential.predict_classes (from tensorflow.python.keras.engine.sequential) is deprecated and will be removed after 2021-01-01.\n",
            "Instructions for updating:\n",
            "Please use instead:* `np.argmax(model.predict(x), axis=-1)`,   if your model does multi-class classification   (e.g. if it uses a `softmax` last-layer activation).* `(model.predict(x) > 0.5).astype(\"int32\")`,   if your model does binary classification   (e.g. if it uses a `sigmoid` last-layer activation).\n",
            "the classification Report for train dataset is:\n",
            "              precision    recall  f1-score   support\n",
            "\n",
            "           0       0.86      0.94      0.90     14414\n",
            "           1       0.71      0.47      0.56      4265\n",
            "\n",
            "    accuracy                           0.84     18679\n",
            "   macro avg       0.79      0.71      0.73     18679\n",
            "weighted avg       0.82      0.84      0.82     18679\n",
            "\n",
            "the confusion matrix for Train Dataset is:\n",
            "[[13619   795]\n",
            " [ 2279  1986]]\n",
            "----------------------------------------------------------------------------------------------------\n",
            "the classification Report for val dataset is:\n",
            "              precision    recall  f1-score   support\n",
            "\n",
            "           0       0.85      0.92      0.89      4191\n",
            "           1       0.59      0.42      0.49      1146\n",
            "\n",
            "    accuracy                           0.81      5337\n",
            "   macro avg       0.72      0.67      0.69      5337\n",
            "weighted avg       0.80      0.81      0.80      5337\n",
            "\n",
            "the confusion matrix for val Dataset is:\n",
            "[[3852  339]\n",
            " [ 659  487]]\n",
            "----------------------------------------------------------------------------------------------------\n",
            "the classification Report for test dataset is:\n",
            "              precision    recall  f1-score   support\n",
            "\n",
            "           0       0.83      0.92      0.88      2067\n",
            "           1       0.58      0.36      0.45       601\n",
            "\n",
            "    accuracy                           0.80      2668\n",
            "   macro avg       0.70      0.64      0.66      2668\n",
            "weighted avg       0.78      0.80      0.78      2668\n",
            "\n",
            "the confusion matrix for Test Dataset is:\n",
            "[[1906  161]\n",
            " [ 382  219]]\n"
          ],
          "name": "stdout"
        }
      ]
    },
    {
      "cell_type": "markdown",
      "metadata": {
        "id": "sQllpRdcPQ2b",
        "colab_type": "text"
      },
      "source": [
        "#### Model from Qi Zhou (The Winner Model)"
      ]
    },
    {
      "cell_type": "code",
      "metadata": {
        "id": "fP_vDtEDUcss",
        "colab_type": "code",
        "colab": {}
      },
      "source": [
        "model_joe = tf.keras.Sequential()\n",
        "\n",
        "# Must define the input shape in the first layer of the neural network\n",
        "model_joe.add(tf.keras.layers.Conv2D(filters=32, kernel_size=3, padding='same', activation='relu', input_shape=(340,340,1))) \n",
        "model_joe.add(tf.keras.layers.MaxPooling2D(pool_size=2))\n",
        "model_joe.add(tf.keras.layers.Dropout(0.2))\n",
        "\n",
        "model_joe.add(tf.keras.layers.Conv2D(filters=64, kernel_size=2, padding='same', activation='relu'))\n",
        "model_joe.add(tf.keras.layers.MaxPooling2D(pool_size=2))\n",
        "model_joe.add(tf.keras.layers.Dropout(0.2))\n",
        "\n",
        "model_joe.add(tf.keras.layers.Conv2D(filters=64, kernel_size=3, padding='same', activation='relu'))\n",
        "model_joe.add(tf.keras.layers.MaxPooling2D(pool_size=3))\n",
        "model_joe.add(tf.keras.layers.Dropout(0.2))\n",
        "\n",
        "model_joe.add(tf.keras.layers.Flatten())\n",
        "model_joe.add(tf.keras.layers.Dense(128, activation='relu'))\n",
        "model_joe.add(tf.keras.layers.Dropout(0.2))\n",
        "model_joe.add(tf.keras.layers.Dense(128, activation='relu'))\n",
        "model_joe.add(tf.keras.layers.Dropout(0.2))\n",
        "model_joe.add(tf.keras.layers.Dense(64, activation='relu'))\n",
        "model_joe.add(tf.keras.layers.Dropout(0.2))\n",
        "model_joe.add(tf.keras.layers.Dense(1, activation='sigmoid'))\n",
        "\n",
        "model_joe.compile(loss='binary_crossentropy', optimizer='adam', metrics=['accuracy'])"
      ],
      "execution_count": 0,
      "outputs": []
    },
    {
      "cell_type": "code",
      "metadata": {
        "id": "bgJiPR1QiVy4",
        "colab_type": "code",
        "colab": {}
      },
      "source": [
        "es = EarlyStopping(monitor='val_loss', mode='min', patience=5, verbose=1)"
      ],
      "execution_count": 0,
      "outputs": []
    },
    {
      "cell_type": "code",
      "metadata": {
        "id": "Vjb9wGojiXFX",
        "colab_type": "code",
        "outputId": "3037f486-30fd-4fee-d77f-109d8b1908b7",
        "colab": {
          "base_uri": "https://localhost:8080/",
          "height": 281
        }
      },
      "source": [
        "history_joe = model_joe.fit(x_train, y_train, \n",
        "          validation_data=(x_val, y_valid),\n",
        "          epochs=30, batch_size= 100, \n",
        "          verbose=1, callbacks=[es]) # 0 = dont show verbose, 1 = show it!"
      ],
      "execution_count": 0,
      "outputs": [
        {
          "output_type": "stream",
          "text": [
            "Epoch 1/30\n",
            "187/187 [==============================] - 513s 3s/step - loss: 0.4857 - accuracy: 0.7771 - val_loss: 0.4543 - val_accuracy: 0.8078\n",
            "Epoch 2/30\n",
            "187/187 [==============================] - 510s 3s/step - loss: 0.4451 - accuracy: 0.7936 - val_loss: 0.4220 - val_accuracy: 0.8066\n",
            "Epoch 3/30\n",
            "187/187 [==============================] - 507s 3s/step - loss: 0.4387 - accuracy: 0.7946 - val_loss: 0.4202 - val_accuracy: 0.8106\n",
            "Epoch 4/30\n",
            "187/187 [==============================] - 506s 3s/step - loss: 0.4321 - accuracy: 0.8019 - val_loss: 0.4153 - val_accuracy: 0.8153\n",
            "Epoch 5/30\n",
            "187/187 [==============================] - 505s 3s/step - loss: 0.4203 - accuracy: 0.8101 - val_loss: 0.4213 - val_accuracy: 0.8108\n",
            "Epoch 6/30\n",
            "187/187 [==============================] - 505s 3s/step - loss: 0.4141 - accuracy: 0.8137 - val_loss: 0.4079 - val_accuracy: 0.8124\n",
            "Epoch 7/30\n",
            "187/187 [==============================] - 507s 3s/step - loss: 0.3975 - accuracy: 0.8238 - val_loss: 0.4237 - val_accuracy: 0.8083\n",
            "Epoch 00007: early stopping\n"
          ],
          "name": "stdout"
        }
      ]
    },
    {
      "cell_type": "code",
      "metadata": {
        "id": "Ktf9McxKJ7k9",
        "colab_type": "code",
        "colab": {}
      },
      "source": [
        "model.save(path+'Project_model_joe.h5')"
      ],
      "execution_count": 0,
      "outputs": []
    },
    {
      "cell_type": "code",
      "metadata": {
        "id": "scFfG93BijG4",
        "colab_type": "code",
        "outputId": "f9f2d228-59a7-4472-c4c1-3c05077450b7",
        "colab": {
          "base_uri": "https://localhost:8080/",
          "height": 295
        }
      },
      "source": [
        "# let's see the training and validation loss by epoch\n",
        "joe_history_dict = history_joe.history\n",
        "loss_values = joe_history_dict['loss'] # you can change this\n",
        "joe_val_loss_values = joe_history_dict['val_loss'] # you can also change this\n",
        "epochs = range(1, len(loss_values) + 1) #acc wasn't defined before\n",
        "plt.plot(epochs, loss_values, 'bo', label='Training loss')\n",
        "plt.plot(epochs, joe_val_loss_values, 'orange', label='Validation loss')\n",
        "plt.title('Training and validation loss')\n",
        "plt.xlabel('Epochs')\n",
        "plt.ylabel('Loss')\n",
        "plt.legend()\n",
        "plt.show()"
      ],
      "execution_count": 0,
      "outputs": [
        {
          "output_type": "display_data",
          "data": {
            "image/png": "[encoded data removed]",
            "text/plain": [
              "<Figure size 432x288 with 1 Axes>"
            ]
          },
          "metadata": {
            "tags": [],
            "needs_background": "light"
          }
        }
      ]
    },
    {
      "cell_type": "code",
      "metadata": {
        "id": "wUmH5Zc9BPlp",
        "colab_type": "code",
        "outputId": "886d499f-4b1d-4614-de85-5cf6fbec4187",
        "colab": {
          "base_uri": "https://localhost:8080/",
          "height": 811
        }
      },
      "source": [
        "model_report(model_joe, x_train, x_val, x_test, y_train, y_valid,y_test)"
      ],
      "execution_count": 0,
      "outputs": [
        {
          "output_type": "stream",
          "text": [
            "WARNING:tensorflow:From <ipython-input-25-5e225d0203e0>:7: Sequential.predict_classes (from tensorflow.python.keras.engine.sequential) is deprecated and will be removed after 2021-01-01.\n",
            "Instructions for updating:\n",
            "Please use instead:* `np.argmax(model.predict(x), axis=-1)`,   if your model does multi-class classification   (e.g. if it uses a `softmax` last-layer activation).* `(model.predict(x) > 0.5).astype(\"int32\")`,   if your model does binary classification   (e.g. if it uses a `sigmoid` last-layer activation).\n",
            "the classification Report for train dataset is:\n",
            "              precision    recall  f1-score   support\n",
            "\n",
            "           0       0.87      0.95      0.91     14414\n",
            "           1       0.74      0.51      0.61      4265\n",
            "\n",
            "    accuracy                           0.85     18679\n",
            "   macro avg       0.81      0.73      0.76     18679\n",
            "weighted avg       0.84      0.85      0.84     18679\n",
            "\n",
            "the confusion matrix for Train Dataset is:\n",
            "[[13665   749]\n",
            " [ 2083  2182]]\n",
            "----------------------------------------------------------------------------------------------------\n",
            "the classification Report for val dataset is:\n",
            "              precision    recall  f1-score   support\n",
            "\n",
            "           0       0.86      0.91      0.88      4191\n",
            "           1       0.57      0.44      0.50      1146\n",
            "\n",
            "    accuracy                           0.81      5337\n",
            "   macro avg       0.71      0.68      0.69      5337\n",
            "weighted avg       0.79      0.81      0.80      5337\n",
            "\n",
            "the confusion matrix for val Dataset is:\n",
            "[[3806  385]\n",
            " [ 638  508]]\n",
            "----------------------------------------------------------------------------------------------------\n",
            "the classification Report for test dataset is:\n",
            "              precision    recall  f1-score   support\n",
            "\n",
            "           0       0.84      0.91      0.88      2067\n",
            "           1       0.57      0.41      0.48       601\n",
            "\n",
            "    accuracy                           0.80      2668\n",
            "   macro avg       0.71      0.66      0.68      2668\n",
            "weighted avg       0.78      0.80      0.79      2668\n",
            "\n",
            "the confusion matrix for Test Dataset is:\n",
            "[[1883  184]\n",
            " [ 354  247]]\n"
          ],
          "name": "stdout"
        }
      ]
    },
    {
      "cell_type": "markdown",
      "metadata": {
        "id": "z7nDybWhG7o-",
        "colab_type": "text"
      },
      "source": [
        "#### Model From Swati"
      ]
    },
    {
      "cell_type": "code",
      "metadata": {
        "id": "dqvbVcksHFrO",
        "colab_type": "code",
        "outputId": "b6844c41-455a-406f-fa14-4dc9f2a02268",
        "colab": {
          "base_uri": "https://localhost:8080/",
          "height": 246
        }
      },
      "source": [
        "# Model created by swati\n",
        "Swati_model = tf.keras.Sequential()\n",
        "\n",
        "# Must define the input shape in the first layer of the neural network\n",
        "Swati_model.add(tf.keras.layers.Conv2D(filters=128, kernel_size=2, padding='same', activation='relu', input_shape=(340,340,1))) \n",
        "Swati_model.add(tf.keras.layers.MaxPooling2D(pool_size=4))\n",
        "Swati_model.add(tf.keras.layers.Dropout(0.5))\n",
        "\n",
        "Swati_model.add(tf.keras.layers.Conv2D(filters=32, kernel_size=2, padding='same', activation='relu'))\n",
        "Swati_model.add(tf.keras.layers.MaxPooling2D(pool_size=4))\n",
        "Swati_model.add(tf.keras.layers.Dropout(0.5))\n",
        "\n",
        "Swati_model.add(tf.keras.layers.Flatten())\n",
        "Swati_model.add(tf.keras.layers.Dense(64, activation='relu'))\n",
        "Swati_model.add(tf.keras.layers.Dropout(0.5))\n",
        "Swati_model.add(tf.keras.layers.Dense(64, activation='relu'))\n",
        "Swati_model.add(tf.keras.layers.Dropout(0.5))\n",
        "Swati_model.add(tf.keras.layers.Dense(32, activation='relu'))\n",
        "Swati_model.add(tf.keras.layers.Dropout(0.3))\n",
        "Swati_model.add(tf.keras.layers.Dense(1, activation='sigmoid'))\n",
        "\n",
        "Swati_model.compile(loss='binary_crossentropy', optimizer='adam', metrics=['accuracy'])\n",
        "\n",
        "history_swati = Swati_model.fit(x_train, y_train, \n",
        "          validation_data=(x_val, y_valid),\n",
        "          epochs=30, batch_size= 100, \n",
        "          verbose=1, callbacks=[es]) "
      ],
      "execution_count": 0,
      "outputs": [
        {
          "output_type": "stream",
          "text": [
            "Epoch 1/30\n",
            "187/187 [==============================] - 491s 3s/step - loss: 0.5256 - accuracy: 0.7647 - val_loss: 0.5225 - val_accuracy: 0.7853\n",
            "Epoch 2/30\n",
            "187/187 [==============================] - 498s 3s/step - loss: 0.4747 - accuracy: 0.7717 - val_loss: 0.5327 - val_accuracy: 0.7853\n",
            "Epoch 3/30\n",
            "187/187 [==============================] - 497s 3s/step - loss: 0.4700 - accuracy: 0.7717 - val_loss: 0.5112 - val_accuracy: 0.7853\n",
            "Epoch 4/30\n",
            "187/187 [==============================] - 486s 3s/step - loss: 0.4647 - accuracy: 0.7717 - val_loss: 0.5020 - val_accuracy: 0.7853\n",
            "Epoch 5/30\n",
            "187/187 [==============================] - 487s 3s/step - loss: 0.4621 - accuracy: 0.7717 - val_loss: 0.5159 - val_accuracy: 0.7853\n",
            "Epoch 6/30\n",
            "187/187 [==============================] - 482s 3s/step - loss: 0.4590 - accuracy: 0.7717 - val_loss: 0.5311 - val_accuracy: 0.7853\n",
            "Epoch 00006: early stopping\n"
          ],
          "name": "stdout"
        }
      ]
    },
    {
      "cell_type": "code",
      "metadata": {
        "id": "M_mT8EUsKF6j",
        "colab_type": "code",
        "colab": {}
      },
      "source": [
        "model.save(path+'Project_model_swati.h5')"
      ],
      "execution_count": 0,
      "outputs": []
    },
    {
      "cell_type": "code",
      "metadata": {
        "id": "uH35ekKsHoDm",
        "colab_type": "code",
        "outputId": "723788d4-414f-4483-c7de-3fcf14dca323",
        "colab": {
          "base_uri": "https://localhost:8080/",
          "height": 295
        }
      },
      "source": [
        "swati_history_dict = history_swati.history\n",
        "loss_values = swati_history_dict['loss'] # you can change this\n",
        "swati_val_loss_values = swati_history_dict['val_loss'] # you can also change this\n",
        "epochs = range(1, len(loss_values) + 1) #acc wasn't defined before\n",
        "plt.plot(epochs, loss_values, 'bo', label='Training loss')\n",
        "plt.plot(epochs, swati_val_loss_values, 'orange', label='Validation loss')\n",
        "plt.title('Training and validation loss')\n",
        "plt.xlabel('Epochs')\n",
        "plt.ylabel('Loss')\n",
        "plt.legend()\n",
        "plt.show()"
      ],
      "execution_count": 0,
      "outputs": [
        {
          "output_type": "display_data",
          "data": {
            "image/png": "[encoded data removed]",
            "text/plain": [
              "<Figure size 432x288 with 1 Axes>"
            ]
          },
          "metadata": {
            "tags": [],
            "needs_background": "light"
          }
        }
      ]
    },
    {
      "cell_type": "code",
      "metadata": {
        "id": "OVemB0PfH5pV",
        "colab_type": "code",
        "outputId": "55b206c4-dd5b-425c-f145-eafc16cbf593",
        "colab": {
          "base_uri": "https://localhost:8080/",
          "height": 794
        }
      },
      "source": [
        "model_report(Swati_model, x_train, x_val, x_test, y_train, y_valid,y_test)"
      ],
      "execution_count": 0,
      "outputs": [
        {
          "output_type": "stream",
          "text": [
            "the classification Report for train dataset is:\n",
            "              precision    recall  f1-score   support\n",
            "\n",
            "           0       0.77      1.00      0.87     14414\n",
            "           1       0.00      0.00      0.00      4265\n",
            "\n",
            "    accuracy                           0.77     18679\n",
            "   macro avg       0.39      0.50      0.44     18679\n",
            "weighted avg       0.60      0.77      0.67     18679\n",
            "\n",
            "the confusion matrix for Train Dataset is:\n",
            "[[14414     0]\n",
            " [ 4265     0]]\n",
            "----------------------------------------------------------------------------------------------------\n"
          ],
          "name": "stdout"
        },
        {
          "output_type": "stream",
          "text": [
            "/usr/local/lib/python3.6/dist-packages/sklearn/metrics/_classification.py:1272: UndefinedMetricWarning: Precision and F-score are ill-defined and being set to 0.0 in labels with no predicted samples. Use `zero_division` parameter to control this behavior.\n",
            "  _warn_prf(average, modifier, msg_start, len(result))\n"
          ],
          "name": "stderr"
        },
        {
          "output_type": "stream",
          "text": [
            "the classification Report for val dataset is:\n",
            "              precision    recall  f1-score   support\n",
            "\n",
            "           0       0.79      1.00      0.88      4191\n",
            "           1       0.00      0.00      0.00      1146\n",
            "\n",
            "    accuracy                           0.79      5337\n",
            "   macro avg       0.39      0.50      0.44      5337\n",
            "weighted avg       0.62      0.79      0.69      5337\n",
            "\n",
            "the confusion matrix for val Dataset is:\n",
            "[[4191    0]\n",
            " [1146    0]]\n",
            "----------------------------------------------------------------------------------------------------\n",
            "the classification Report for test dataset is:\n",
            "              precision    recall  f1-score   support\n",
            "\n",
            "           0       0.77      1.00      0.87      2067\n",
            "           1       0.00      0.00      0.00       601\n",
            "\n",
            "    accuracy                           0.77      2668\n",
            "   macro avg       0.39      0.50      0.44      2668\n",
            "weighted avg       0.60      0.77      0.68      2668\n",
            "\n",
            "the confusion matrix for Test Dataset is:\n",
            "[[2067    0]\n",
            " [ 601    0]]\n"
          ],
          "name": "stdout"
        }
      ]
    },
    {
      "cell_type": "markdown",
      "metadata": {
        "id": "gmf7Y9XVNwH0",
        "colab_type": "text"
      },
      "source": [
        "#### Model from Ashiya"
      ]
    },
    {
      "cell_type": "code",
      "metadata": {
        "id": "UF3zoSXKN0pI",
        "colab_type": "code",
        "outputId": "8cead0fc-7f1e-4135-b482-3397f62f0f91",
        "colab": {
          "base_uri": "https://localhost:8080/",
          "height": 246
        }
      },
      "source": [
        "AAA_model = tf.keras.Sequential()\n",
        "\n",
        "# Must define the input shape in the first layer of the neural network\n",
        "AAA_model.add(tf.keras.layers.Conv2D(filters=128, kernel_size=3, padding='same', activation='relu', input_shape=(340,340,1))) \n",
        "AAA_model.add(tf.keras.layers.MaxPooling2D(pool_size=2))\n",
        "AAA_model.add(tf.keras.layers.Dropout(0.5))\n",
        "\n",
        "AAA_model.add(tf.keras.layers.Conv2D(filters=64, kernel_size=3, padding='same', activation='relu'))\n",
        "AAA_model.add(tf.keras.layers.MaxPooling2D(pool_size=2))\n",
        "AAA_model.add(tf.keras.layers.Dropout(0.5))\n",
        "\n",
        "# Add one more layer\n",
        "AAA_model.add(tf.keras.layers.Conv2D(filters=32, kernel_size=3, padding='same', activation='relu'))\n",
        "AAA_model.add(tf.keras.layers.MaxPooling2D(pool_size=2))\n",
        "AAA_model.add(tf.keras.layers.Dropout(0.5))\n",
        "\n",
        "AAA_model.add(tf.keras.layers.Flatten())\n",
        "AAA_model.add(tf.keras.layers.Dense(256, activation='relu'))\n",
        "AAA_model.add(tf.keras.layers.Dense(128, activation='relu'))\n",
        "AAA_model.add(tf.keras.layers.Dense(32, activation='relu'))\n",
        "\n",
        "AAA_model.add(tf.keras.layers.Dense(1, activation='sigmoid'))\n",
        "\n",
        "AAA_model.compile(loss='binary_crossentropy', optimizer='adam', metrics=['accuracy'])\n",
        "\n",
        "history_AAA = Swati_model.fit(x_train, y_train, \n",
        "          validation_data=(x_val, y_valid),\n",
        "          epochs=30, batch_size= 100, \n",
        "          verbose=1, callbacks=[es]) "
      ],
      "execution_count": 0,
      "outputs": [
        {
          "output_type": "stream",
          "text": [
            "Epoch 1/30\n",
            "187/187 [==============================] - 427s 2s/step - loss: 0.4489 - accuracy: 0.7717 - val_loss: 0.5466 - val_accuracy: 0.7853\n",
            "Epoch 2/30\n",
            "187/187 [==============================] - 426s 2s/step - loss: 0.4489 - accuracy: 0.7717 - val_loss: 0.5360 - val_accuracy: 0.7853\n",
            "Epoch 3/30\n",
            "187/187 [==============================] - 432s 2s/step - loss: 0.4466 - accuracy: 0.7717 - val_loss: 0.4991 - val_accuracy: 0.7853\n",
            "Epoch 4/30\n",
            "187/187 [==============================] - 439s 2s/step - loss: 0.4461 - accuracy: 0.7717 - val_loss: 0.5322 - val_accuracy: 0.7853\n",
            "Epoch 5/30\n",
            "187/187 [==============================] - 437s 2s/step - loss: 0.4446 - accuracy: 0.7717 - val_loss: 0.5417 - val_accuracy: 0.7853\n",
            "Epoch 6/30\n",
            "187/187 [==============================] - 423s 2s/step - loss: 0.4434 - accuracy: 0.7717 - val_loss: 0.5398 - val_accuracy: 0.7853\n",
            "Epoch 00006: early stopping\n"
          ],
          "name": "stdout"
        }
      ]
    },
    {
      "cell_type": "code",
      "metadata": {
        "id": "e3cAP7wtKKyM",
        "colab_type": "code",
        "colab": {}
      },
      "source": [
        "model.save(path+'Project_model_aaa.h5')"
      ],
      "execution_count": 0,
      "outputs": []
    },
    {
      "cell_type": "code",
      "metadata": {
        "id": "V3UXcE2BOfXb",
        "colab_type": "code",
        "outputId": "abc0622b-ba59-429a-f066-b140b47f2f7e",
        "colab": {
          "base_uri": "https://localhost:8080/",
          "height": 295
        }
      },
      "source": [
        "AAA_history_dict = history_AAA.history\n",
        "loss_values = AAA_history_dict['loss'] # you can change this\n",
        "AAA_val_loss_values = AAA_history_dict['val_loss'] # you can also change this\n",
        "epochs = range(1, len(loss_values) + 1) #acc wasn't defined before\n",
        "plt.plot(epochs, loss_values, 'bo', label='Training loss')\n",
        "plt.plot(epochs, AAA_val_loss_values, 'orange', label='Validation loss')\n",
        "plt.title('Training and validation loss')\n",
        "plt.xlabel('Epochs')\n",
        "plt.ylabel('Loss')\n",
        "plt.legend()\n",
        "plt.show()"
      ],
      "execution_count": 0,
      "outputs": [
        {
          "output_type": "display_data",
          "data": {
            "image/png": "[encoded data removed]",
            "text/plain": [
              "<Figure size 432x288 with 1 Axes>"
            ]
          },
          "metadata": {
            "tags": [],
            "needs_background": "light"
          }
        }
      ]
    },
    {
      "cell_type": "code",
      "metadata": {
        "id": "6O4JAAEHZEZX",
        "colab_type": "code",
        "outputId": "1b2261ec-93ec-409b-9b5c-6e6e025eb989",
        "colab": {
          "base_uri": "https://localhost:8080/",
          "height": 794
        }
      },
      "source": [
        "model_report(AAA_model, x_train, x_val, x_test, y_train, y_valid,y_test)"
      ],
      "execution_count": 0,
      "outputs": [
        {
          "output_type": "stream",
          "text": [
            "the classification Report for train dataset is:\n",
            "              precision    recall  f1-score   support\n",
            "\n",
            "           0       0.00      0.00      0.00     14414\n",
            "           1       0.23      1.00      0.37      4265\n",
            "\n",
            "    accuracy                           0.23     18679\n",
            "   macro avg       0.11      0.50      0.19     18679\n",
            "weighted avg       0.05      0.23      0.08     18679\n",
            "\n",
            "the confusion matrix for Train Dataset is:\n",
            "[[    0 14414]\n",
            " [    0  4265]]\n",
            "----------------------------------------------------------------------------------------------------\n"
          ],
          "name": "stdout"
        },
        {
          "output_type": "stream",
          "text": [
            "/usr/local/lib/python3.6/dist-packages/sklearn/metrics/_classification.py:1272: UndefinedMetricWarning: Precision and F-score are ill-defined and being set to 0.0 in labels with no predicted samples. Use `zero_division` parameter to control this behavior.\n",
            "  _warn_prf(average, modifier, msg_start, len(result))\n"
          ],
          "name": "stderr"
        },
        {
          "output_type": "stream",
          "text": [
            "the classification Report for val dataset is:\n",
            "              precision    recall  f1-score   support\n",
            "\n",
            "           0       0.00      0.00      0.00      4191\n",
            "           1       0.21      1.00      0.35      1146\n",
            "\n",
            "    accuracy                           0.21      5337\n",
            "   macro avg       0.11      0.50      0.18      5337\n",
            "weighted avg       0.05      0.21      0.08      5337\n",
            "\n",
            "the confusion matrix for val Dataset is:\n",
            "[[   0 4191]\n",
            " [   0 1146]]\n",
            "----------------------------------------------------------------------------------------------------\n",
            "the classification Report for test dataset is:\n",
            "              precision    recall  f1-score   support\n",
            "\n",
            "           0       0.00      0.00      0.00      2067\n",
            "           1       0.23      1.00      0.37       601\n",
            "\n",
            "    accuracy                           0.23      2668\n",
            "   macro avg       0.11      0.50      0.18      2668\n",
            "weighted avg       0.05      0.23      0.08      2668\n",
            "\n",
            "the confusion matrix for Test Dataset is:\n",
            "[[   0 2067]\n",
            " [   0  601]]\n"
          ],
          "name": "stdout"
        }
      ]
    },
    {
      "cell_type": "markdown",
      "metadata": {
        "id": "A2XINh_mYZWo",
        "colab_type": "text"
      },
      "source": [
        "## Assessment of Results"
      ]
    },
    {
      "cell_type": "code",
      "metadata": {
        "id": "_lxgB0_WYzH1",
        "colab_type": "code",
        "outputId": "b45189c8-d439-46ce-d1d5-633c7e295366",
        "colab": {
          "base_uri": "https://localhost:8080/",
          "height": 738
        }
      },
      "source": [
        "# model report for Cui's model\n",
        "model_report(yxc_model, x_train, x_val, x_test, y_train, y_valid,y_test)"
      ],
      "execution_count": 0,
      "outputs": [
        {
          "output_type": "stream",
          "text": [
            "the classification Report for train dataset is:\n",
            "              precision    recall  f1-score   support\n",
            "\n",
            "           0       0.86      0.94      0.90     14414\n",
            "           1       0.71      0.47      0.56      4265\n",
            "\n",
            "    accuracy                           0.84     18679\n",
            "   macro avg       0.79      0.71      0.73     18679\n",
            "weighted avg       0.82      0.84      0.82     18679\n",
            "\n",
            "the confusion matrix for Train Dataset is:\n",
            "[[13619   795]\n",
            " [ 2279  1986]]\n",
            "----------------------------------------------------------------------------------------------------\n",
            "the classification Report for val dataset is:\n",
            "              precision    recall  f1-score   support\n",
            "\n",
            "           0       0.85      0.92      0.89      4191\n",
            "           1       0.59      0.42      0.49      1146\n",
            "\n",
            "    accuracy                           0.81      5337\n",
            "   macro avg       0.72      0.67      0.69      5337\n",
            "weighted avg       0.80      0.81      0.80      5337\n",
            "\n",
            "the confusion matrix for val Dataset is:\n",
            "[[3852  339]\n",
            " [ 659  487]]\n",
            "----------------------------------------------------------------------------------------------------\n",
            "the classification Report for test dataset is:\n",
            "              precision    recall  f1-score   support\n",
            "\n",
            "           0       0.83      0.92      0.88      2067\n",
            "           1       0.58      0.36      0.45       601\n",
            "\n",
            "    accuracy                           0.80      2668\n",
            "   macro avg       0.70      0.64      0.66      2668\n",
            "weighted avg       0.78      0.80      0.78      2668\n",
            "\n",
            "the confusion matrix for Test Dataset is:\n",
            "[[1906  161]\n",
            " [ 382  219]]\n"
          ],
          "name": "stdout"
        }
      ]
    },
    {
      "cell_type": "code",
      "metadata": {
        "id": "FaCde7LJYcMP",
        "colab_type": "code",
        "outputId": "e5d2708c-6741-4db5-cb4c-68a05b9903a3",
        "colab": {
          "base_uri": "https://localhost:8080/",
          "height": 738
        }
      },
      "source": [
        "# model report for Zhou's model\n",
        "model_report(model_joe, x_train, x_val, x_test, y_train, y_valid,y_test)"
      ],
      "execution_count": 0,
      "outputs": [
        {
          "output_type": "stream",
          "text": [
            "the classification Report for train dataset is:\n",
            "              precision    recall  f1-score   support\n",
            "\n",
            "           0       0.87      0.95      0.91     14414\n",
            "           1       0.74      0.51      0.61      4265\n",
            "\n",
            "    accuracy                           0.85     18679\n",
            "   macro avg       0.81      0.73      0.76     18679\n",
            "weighted avg       0.84      0.85      0.84     18679\n",
            "\n",
            "the confusion matrix for Train Dataset is:\n",
            "[[13665   749]\n",
            " [ 2083  2182]]\n",
            "----------------------------------------------------------------------------------------------------\n",
            "the classification Report for val dataset is:\n",
            "              precision    recall  f1-score   support\n",
            "\n",
            "           0       0.86      0.91      0.88      4191\n",
            "           1       0.57      0.44      0.50      1146\n",
            "\n",
            "    accuracy                           0.81      5337\n",
            "   macro avg       0.71      0.68      0.69      5337\n",
            "weighted avg       0.79      0.81      0.80      5337\n",
            "\n",
            "the confusion matrix for val Dataset is:\n",
            "[[3806  385]\n",
            " [ 638  508]]\n",
            "----------------------------------------------------------------------------------------------------\n",
            "the classification Report for test dataset is:\n",
            "              precision    recall  f1-score   support\n",
            "\n",
            "           0       0.84      0.91      0.88      2067\n",
            "           1       0.57      0.41      0.48       601\n",
            "\n",
            "    accuracy                           0.80      2668\n",
            "   macro avg       0.71      0.66      0.68      2668\n",
            "weighted avg       0.78      0.80      0.79      2668\n",
            "\n",
            "the confusion matrix for Test Dataset is:\n",
            "[[1883  184]\n",
            " [ 354  247]]\n"
          ],
          "name": "stdout"
        }
      ]
    },
    {
      "cell_type": "code",
      "metadata": {
        "id": "hgo-GkDLyEpu",
        "colab_type": "code",
        "outputId": "59376404-e8fa-4a1e-c711-fc317008c3f5",
        "colab": {
          "base_uri": "https://localhost:8080/",
          "height": 794
        }
      },
      "source": [
        "# model report for Swati's model\n",
        "model_report(Swati_model, x_train, x_val, x_test, y_train, y_valid,y_test)"
      ],
      "execution_count": 0,
      "outputs": [
        {
          "output_type": "stream",
          "text": [
            "the classification Report for train dataset is:\n",
            "              precision    recall  f1-score   support\n",
            "\n",
            "           0       0.77      1.00      0.87     14414\n",
            "           1       0.00      0.00      0.00      4265\n",
            "\n",
            "    accuracy                           0.77     18679\n",
            "   macro avg       0.39      0.50      0.44     18679\n",
            "weighted avg       0.60      0.77      0.67     18679\n",
            "\n",
            "the confusion matrix for Train Dataset is:\n",
            "[[14414     0]\n",
            " [ 4265     0]]\n",
            "----------------------------------------------------------------------------------------------------\n"
          ],
          "name": "stdout"
        },
        {
          "output_type": "stream",
          "text": [
            "/usr/local/lib/python3.6/dist-packages/sklearn/metrics/_classification.py:1272: UndefinedMetricWarning: Precision and F-score are ill-defined and being set to 0.0 in labels with no predicted samples. Use `zero_division` parameter to control this behavior.\n",
            "  _warn_prf(average, modifier, msg_start, len(result))\n"
          ],
          "name": "stderr"
        },
        {
          "output_type": "stream",
          "text": [
            "the classification Report for val dataset is:\n",
            "              precision    recall  f1-score   support\n",
            "\n",
            "           0       0.79      1.00      0.88      4191\n",
            "           1       0.00      0.00      0.00      1146\n",
            "\n",
            "    accuracy                           0.79      5337\n",
            "   macro avg       0.39      0.50      0.44      5337\n",
            "weighted avg       0.62      0.79      0.69      5337\n",
            "\n",
            "the confusion matrix for val Dataset is:\n",
            "[[4191    0]\n",
            " [1146    0]]\n",
            "----------------------------------------------------------------------------------------------------\n",
            "the classification Report for test dataset is:\n",
            "              precision    recall  f1-score   support\n",
            "\n",
            "           0       0.77      1.00      0.87      2067\n",
            "           1       0.00      0.00      0.00       601\n",
            "\n",
            "    accuracy                           0.77      2668\n",
            "   macro avg       0.39      0.50      0.44      2668\n",
            "weighted avg       0.60      0.77      0.68      2668\n",
            "\n",
            "the confusion matrix for Test Dataset is:\n",
            "[[2067    0]\n",
            " [ 601    0]]\n"
          ],
          "name": "stdout"
        }
      ]
    },
    {
      "cell_type": "code",
      "metadata": {
        "id": "8sbYfv4QyFVU",
        "colab_type": "code",
        "outputId": "bd027d89-a4d4-4538-ecc4-8703ae2de644",
        "colab": {
          "base_uri": "https://localhost:8080/",
          "height": 794
        }
      },
      "source": [
        "# model report for Ashiya's model\n",
        "model_report(AAA_model, x_train, x_val, x_test, y_train, y_valid,y_test)"
      ],
      "execution_count": 0,
      "outputs": [
        {
          "output_type": "stream",
          "text": [
            "the classification Report for train dataset is:\n",
            "              precision    recall  f1-score   support\n",
            "\n",
            "           0       0.00      0.00      0.00     14414\n",
            "           1       0.23      1.00      0.37      4265\n",
            "\n",
            "    accuracy                           0.23     18679\n",
            "   macro avg       0.11      0.50      0.19     18679\n",
            "weighted avg       0.05      0.23      0.08     18679\n",
            "\n",
            "the confusion matrix for Train Dataset is:\n",
            "[[    0 14414]\n",
            " [    0  4265]]\n",
            "----------------------------------------------------------------------------------------------------\n"
          ],
          "name": "stdout"
        },
        {
          "output_type": "stream",
          "text": [
            "/usr/local/lib/python3.6/dist-packages/sklearn/metrics/_classification.py:1272: UndefinedMetricWarning: Precision and F-score are ill-defined and being set to 0.0 in labels with no predicted samples. Use `zero_division` parameter to control this behavior.\n",
            "  _warn_prf(average, modifier, msg_start, len(result))\n"
          ],
          "name": "stderr"
        },
        {
          "output_type": "stream",
          "text": [
            "the classification Report for val dataset is:\n",
            "              precision    recall  f1-score   support\n",
            "\n",
            "           0       0.00      0.00      0.00      4191\n",
            "           1       0.21      1.00      0.35      1146\n",
            "\n",
            "    accuracy                           0.21      5337\n",
            "   macro avg       0.11      0.50      0.18      5337\n",
            "weighted avg       0.05      0.21      0.08      5337\n",
            "\n",
            "the confusion matrix for val Dataset is:\n",
            "[[   0 4191]\n",
            " [   0 1146]]\n",
            "----------------------------------------------------------------------------------------------------\n",
            "the classification Report for test dataset is:\n",
            "              precision    recall  f1-score   support\n",
            "\n",
            "           0       0.00      0.00      0.00      2067\n",
            "           1       0.23      1.00      0.37       601\n",
            "\n",
            "    accuracy                           0.23      2668\n",
            "   macro avg       0.11      0.50      0.18      2668\n",
            "weighted avg       0.05      0.23      0.08      2668\n",
            "\n",
            "the confusion matrix for Test Dataset is:\n",
            "[[   0 2067]\n",
            " [   0  601]]\n"
          ],
          "name": "stdout"
        }
      ]
    },
    {
      "cell_type": "markdown",
      "metadata": {
        "id": "pzkwPfYzFHag",
        "colab_type": "text"
      },
      "source": [
        "##-End-"
      ]
    }
  ]
}