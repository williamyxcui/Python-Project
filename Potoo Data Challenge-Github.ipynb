{
 "cells": [
  {
   "cell_type": "markdown",
   "metadata": {},
   "source": [
    "# 1. Import Libraries"
   ]
  },
  {
   "cell_type": "code",
   "execution_count": 1,
   "metadata": {},
   "outputs": [],
   "source": [
    "import pandas as pd\n",
    "import datetime\n",
    "import os\n",
    "from scipy.stats.stats import pearsonr\n",
    "import pandas_datareader.data as web\n",
    "from pandas import Series, DataFrame\n",
    "from datetime import timedelta"
   ]
  },
  {
   "cell_type": "markdown",
   "metadata": {},
   "source": [
    "# 2.  Read Dataset\n",
    "\n",
    "* Since the NDA, the dataset cannot be show below\n",
    "* In this part, basic dataset info will be check, missing values, statistic value"
   ]
  },
  {
   "cell_type": "code",
   "execution_count": 2,
   "metadata": {},
   "outputs": [],
   "source": [
    "potoo = pd.read_csv(\"Uconn Dataset - 8.26.19.csv\")\n",
    "potoo['Date'] = pd.to_datetime(potoo['Date'])"
   ]
  },
  {
   "cell_type": "code",
   "execution_count": 3,
   "metadata": {},
   "outputs": [
    {
     "name": "stdout",
     "output_type": "stream",
     "text": [
      "<class 'pandas.core.frame.DataFrame'>\n",
      "RangeIndex: 429737 entries, 0 to 429736\n",
      "Data columns (total 12 columns):\n",
      "Date                429737 non-null datetime64[ns]\n",
      "Ticker              429737 non-null object\n",
      "Parent Company      429737 non-null object\n",
      "Brand Name          429737 non-null object\n",
      "Product Category    429737 non-null object\n",
      "Product ASIN        429737 non-null object\n",
      "Product Name        429737 non-null object\n",
      "Seller Name         429737 non-null object\n",
      "Stock               429737 non-null int64\n",
      "Price               429737 non-null float64\n",
      "Units Sold          429737 non-null int64\n",
      "Total Sales         429737 non-null float64\n",
      "dtypes: datetime64[ns](1), float64(2), int64(2), object(7)\n",
      "memory usage: 39.3+ MB\n"
     ]
    }
   ],
   "source": [
    "potoo.info()"
   ]
  },
  {
   "cell_type": "code",
   "execution_count": 4,
   "metadata": {},
   "outputs": [
    {
     "data": {
      "text/plain": [
       "Date                0\n",
       "Ticker              0\n",
       "Parent Company      0\n",
       "Brand Name          0\n",
       "Product Category    0\n",
       "Product ASIN        0\n",
       "Product Name        0\n",
       "Seller Name         0\n",
       "Stock               0\n",
       "Price               0\n",
       "Units Sold          0\n",
       "Total Sales         0\n",
       "dtype: int64"
      ]
     },
     "execution_count": 4,
     "metadata": {},
     "output_type": "execute_result"
    }
   ],
   "source": [
    "#checing missing values\n",
    "potoo.isnull().sum()"
   ]
  },
  {
   "cell_type": "code",
   "execution_count": 5,
   "metadata": {},
   "outputs": [
    {
     "data": {
      "text/html": [
       "<div>\n",
       "<style scoped>\n",
       "    .dataframe tbody tr th:only-of-type {\n",
       "        vertical-align: middle;\n",
       "    }\n",
       "\n",
       "    .dataframe tbody tr th {\n",
       "        vertical-align: top;\n",
       "    }\n",
       "\n",
       "    .dataframe thead th {\n",
       "        text-align: right;\n",
       "    }\n",
       "</style>\n",
       "<table border=\"1\" class=\"dataframe\">\n",
       "  <thead>\n",
       "    <tr style=\"text-align: right;\">\n",
       "      <th></th>\n",
       "      <th>Stock</th>\n",
       "      <th>Price</th>\n",
       "      <th>Units Sold</th>\n",
       "      <th>Total Sales</th>\n",
       "    </tr>\n",
       "  </thead>\n",
       "  <tbody>\n",
       "    <tr>\n",
       "      <th>count</th>\n",
       "      <td>429737.000000</td>\n",
       "      <td>429737.000000</td>\n",
       "      <td>429737.000000</td>\n",
       "      <td>429737.000000</td>\n",
       "    </tr>\n",
       "    <tr>\n",
       "      <th>mean</th>\n",
       "      <td>105.362878</td>\n",
       "      <td>39.290911</td>\n",
       "      <td>7.894622</td>\n",
       "      <td>296.045701</td>\n",
       "    </tr>\n",
       "    <tr>\n",
       "      <th>std</th>\n",
       "      <td>165.927872</td>\n",
       "      <td>65.235151</td>\n",
       "      <td>27.430091</td>\n",
       "      <td>1758.678038</td>\n",
       "    </tr>\n",
       "    <tr>\n",
       "      <th>min</th>\n",
       "      <td>0.000000</td>\n",
       "      <td>0.990000</td>\n",
       "      <td>1.000000</td>\n",
       "      <td>1.110000</td>\n",
       "    </tr>\n",
       "    <tr>\n",
       "      <th>25%</th>\n",
       "      <td>10.000000</td>\n",
       "      <td>12.510000</td>\n",
       "      <td>1.000000</td>\n",
       "      <td>26.410000</td>\n",
       "    </tr>\n",
       "    <tr>\n",
       "      <th>50%</th>\n",
       "      <td>37.000000</td>\n",
       "      <td>21.100000</td>\n",
       "      <td>3.000000</td>\n",
       "      <td>62.950000</td>\n",
       "    </tr>\n",
       "    <tr>\n",
       "      <th>75%</th>\n",
       "      <td>120.000000</td>\n",
       "      <td>38.090000</td>\n",
       "      <td>6.000000</td>\n",
       "      <td>171.080000</td>\n",
       "    </tr>\n",
       "    <tr>\n",
       "      <th>max</th>\n",
       "      <td>997.000000</td>\n",
       "      <td>10000.000000</td>\n",
       "      <td>991.000000</td>\n",
       "      <td>213535.080000</td>\n",
       "    </tr>\n",
       "  </tbody>\n",
       "</table>\n",
       "</div>"
      ],
      "text/plain": [
       "               Stock          Price     Units Sold    Total Sales\n",
       "count  429737.000000  429737.000000  429737.000000  429737.000000\n",
       "mean      105.362878      39.290911       7.894622     296.045701\n",
       "std       165.927872      65.235151      27.430091    1758.678038\n",
       "min         0.000000       0.990000       1.000000       1.110000\n",
       "25%        10.000000      12.510000       1.000000      26.410000\n",
       "50%        37.000000      21.100000       3.000000      62.950000\n",
       "75%       120.000000      38.090000       6.000000     171.080000\n",
       "max       997.000000   10000.000000     991.000000  213535.080000"
      ]
     },
     "execution_count": 5,
     "metadata": {},
     "output_type": "execute_result"
    }
   ],
   "source": [
    "potoo.describe()"
   ]
  },
  {
   "cell_type": "code",
   "execution_count": 6,
   "metadata": {},
   "outputs": [],
   "source": [
    "# Change the Coloumn name to make it easier to be used in python\n",
    "potoo.columns = [\"Date\", \"Ticker\", \"Parent_Company\", 'Brand_Name', 'Product_Category', 'Product_ASIN', 'Product_Name', 'Seller_Name'\n",
    "                , 'Stock','Price', 'Units_Sold', 'Total_Sales']\n",
    "#Change the parent company and Brand Name of fitbit to make it clear. The FitBit and Fitbit may cause some confuese in python\n",
    "potoo.loc[potoo.Parent_Company == 'FitBit', \"Parent_Company\"] = 'Fitbit'"
   ]
  },
  {
   "cell_type": "markdown",
   "metadata": {},
   "source": [
    "# 3. Scraped stock price dataset from Yahoo Finance"
   ]
  },
  {
   "cell_type": "code",
   "execution_count": 7,
   "metadata": {},
   "outputs": [
    {
     "data": {
      "text/html": [
       "<div>\n",
       "<style scoped>\n",
       "    .dataframe tbody tr th:only-of-type {\n",
       "        vertical-align: middle;\n",
       "    }\n",
       "\n",
       "    .dataframe tbody tr th {\n",
       "        vertical-align: top;\n",
       "    }\n",
       "\n",
       "    .dataframe thead th {\n",
       "        text-align: right;\n",
       "    }\n",
       "</style>\n",
       "<table border=\"1\" class=\"dataframe\">\n",
       "  <thead>\n",
       "    <tr style=\"text-align: right;\">\n",
       "      <th></th>\n",
       "      <th>Date</th>\n",
       "      <th>Ticker</th>\n",
       "      <th>High</th>\n",
       "      <th>Low</th>\n",
       "      <th>Open</th>\n",
       "      <th>Close</th>\n",
       "      <th>Volume</th>\n",
       "      <th>Adj_Close</th>\n",
       "    </tr>\n",
       "  </thead>\n",
       "  <tbody>\n",
       "    <tr>\n",
       "      <th>6253</th>\n",
       "      <td>2019-08-26</td>\n",
       "      <td>NUS</td>\n",
       "      <td>40.599998</td>\n",
       "      <td>39.369999</td>\n",
       "      <td>40.500000</td>\n",
       "      <td>40.139999</td>\n",
       "      <td>493300.0</td>\n",
       "      <td>39.390549</td>\n",
       "    </tr>\n",
       "    <tr>\n",
       "      <th>6254</th>\n",
       "      <td>2019-08-26</td>\n",
       "      <td>NWL</td>\n",
       "      <td>15.970000</td>\n",
       "      <td>15.720000</td>\n",
       "      <td>15.880000</td>\n",
       "      <td>15.820000</td>\n",
       "      <td>3045300.0</td>\n",
       "      <td>15.410170</td>\n",
       "    </tr>\n",
       "    <tr>\n",
       "      <th>6255</th>\n",
       "      <td>2019-08-26</td>\n",
       "      <td>PLT</td>\n",
       "      <td>29.200001</td>\n",
       "      <td>28.090000</td>\n",
       "      <td>28.590000</td>\n",
       "      <td>29.150000</td>\n",
       "      <td>769600.0</td>\n",
       "      <td>28.984375</td>\n",
       "    </tr>\n",
       "    <tr>\n",
       "      <th>6256</th>\n",
       "      <td>2019-08-26</td>\n",
       "      <td>SMG</td>\n",
       "      <td>105.059998</td>\n",
       "      <td>102.750000</td>\n",
       "      <td>103.300003</td>\n",
       "      <td>104.989998</td>\n",
       "      <td>458400.0</td>\n",
       "      <td>104.381058</td>\n",
       "    </tr>\n",
       "    <tr>\n",
       "      <th>6257</th>\n",
       "      <td>2019-08-26</td>\n",
       "      <td>YETI</td>\n",
       "      <td>27.799999</td>\n",
       "      <td>25.180000</td>\n",
       "      <td>27.200001</td>\n",
       "      <td>25.780001</td>\n",
       "      <td>1572000.0</td>\n",
       "      <td>25.780001</td>\n",
       "    </tr>\n",
       "  </tbody>\n",
       "</table>\n",
       "</div>"
      ],
      "text/plain": [
       "           Date Ticker        High         Low        Open       Close  \\\n",
       "6253 2019-08-26    NUS   40.599998   39.369999   40.500000   40.139999   \n",
       "6254 2019-08-26    NWL   15.970000   15.720000   15.880000   15.820000   \n",
       "6255 2019-08-26    PLT   29.200001   28.090000   28.590000   29.150000   \n",
       "6256 2019-08-26    SMG  105.059998  102.750000  103.300003  104.989998   \n",
       "6257 2019-08-26   YETI   27.799999   25.180000   27.200001   25.780001   \n",
       "\n",
       "         Volume   Adj_Close  \n",
       "6253   493300.0   39.390549  \n",
       "6254  3045300.0   15.410170  \n",
       "6255   769600.0   28.984375  \n",
       "6256   458400.0  104.381058  \n",
       "6257  1572000.0   25.780001  "
      ]
     },
     "execution_count": 7,
     "metadata": {},
     "output_type": "execute_result"
    }
   ],
   "source": [
    "#Download the stock price dataset from Yahoo Finance\n",
    "start = datetime.datetime(2017, 4, 12)\n",
    "end = datetime.datetime(2019, 8, 26)\n",
    "company = ['GPRO', 'FIT', 'NWL', 'PLT', 'HENKY', 'CHD', 'YETI','NUS', 'CAJ', 'GNC', 'SMG']\n",
    "Company_Stock = web.DataReader(company, 'yahoo',start = start, end = end)\n",
    "Company_Stock.drop(Company_Stock.index[-1], inplace = True)\n",
    "Company_Stock = Company_Stock.stack().reset_index()\n",
    "Company_Stock.columns = ['Date', 'Ticker', 'High', 'Low', 'Open', 'Close', 'Volume', 'Adj_Close']\n",
    "Company_Stock.tail()"
   ]
  },
  {
   "cell_type": "markdown",
   "metadata": {},
   "source": [
    "# 4. Combine Dataset for Further Analysis"
   ]
  },
  {
   "cell_type": "code",
   "execution_count": 8,
   "metadata": {},
   "outputs": [
    {
     "data": {
      "text/html": [
       "<div>\n",
       "<style scoped>\n",
       "    .dataframe tbody tr th:only-of-type {\n",
       "        vertical-align: middle;\n",
       "    }\n",
       "\n",
       "    .dataframe tbody tr th {\n",
       "        vertical-align: top;\n",
       "    }\n",
       "\n",
       "    .dataframe thead th {\n",
       "        text-align: right;\n",
       "    }\n",
       "</style>\n",
       "<table border=\"1\" class=\"dataframe\">\n",
       "  <thead>\n",
       "    <tr style=\"text-align: right;\">\n",
       "      <th></th>\n",
       "      <th>Date</th>\n",
       "      <th>Ticker</th>\n",
       "      <th>High</th>\n",
       "      <th>Low</th>\n",
       "      <th>Open</th>\n",
       "      <th>Close</th>\n",
       "      <th>Volume</th>\n",
       "      <th>Adj_Close</th>\n",
       "    </tr>\n",
       "  </thead>\n",
       "  <tbody>\n",
       "    <tr>\n",
       "      <th>6236</th>\n",
       "      <td>2019-08-22</td>\n",
       "      <td>CAJ</td>\n",
       "      <td>25.870001</td>\n",
       "      <td>25.490000</td>\n",
       "      <td>25.650000</td>\n",
       "      <td>25.520000</td>\n",
       "      <td>394200.0</td>\n",
       "      <td>25.520000</td>\n",
       "    </tr>\n",
       "    <tr>\n",
       "      <th>6237</th>\n",
       "      <td>2019-08-22</td>\n",
       "      <td>CHD</td>\n",
       "      <td>79.959999</td>\n",
       "      <td>78.139999</td>\n",
       "      <td>79.230003</td>\n",
       "      <td>78.500000</td>\n",
       "      <td>990100.0</td>\n",
       "      <td>78.238220</td>\n",
       "    </tr>\n",
       "    <tr>\n",
       "      <th>6238</th>\n",
       "      <td>2019-08-22</td>\n",
       "      <td>FIT</td>\n",
       "      <td>3.215000</td>\n",
       "      <td>3.020000</td>\n",
       "      <td>3.110000</td>\n",
       "      <td>3.030000</td>\n",
       "      <td>4607700.0</td>\n",
       "      <td>3.030000</td>\n",
       "    </tr>\n",
       "    <tr>\n",
       "      <th>6239</th>\n",
       "      <td>2019-08-22</td>\n",
       "      <td>GNC</td>\n",
       "      <td>1.900000</td>\n",
       "      <td>1.750000</td>\n",
       "      <td>1.880000</td>\n",
       "      <td>1.800000</td>\n",
       "      <td>820500.0</td>\n",
       "      <td>1.800000</td>\n",
       "    </tr>\n",
       "    <tr>\n",
       "      <th>6240</th>\n",
       "      <td>2019-08-22</td>\n",
       "      <td>GPRO</td>\n",
       "      <td>4.210000</td>\n",
       "      <td>3.950000</td>\n",
       "      <td>4.190000</td>\n",
       "      <td>3.960000</td>\n",
       "      <td>3031300.0</td>\n",
       "      <td>3.960000</td>\n",
       "    </tr>\n",
       "    <tr>\n",
       "      <th>6241</th>\n",
       "      <td>2019-08-22</td>\n",
       "      <td>HENKY</td>\n",
       "      <td>22.330000</td>\n",
       "      <td>21.969999</td>\n",
       "      <td>22.129999</td>\n",
       "      <td>22.020000</td>\n",
       "      <td>31700.0</td>\n",
       "      <td>22.020000</td>\n",
       "    </tr>\n",
       "    <tr>\n",
       "      <th>6242</th>\n",
       "      <td>2019-08-22</td>\n",
       "      <td>NUS</td>\n",
       "      <td>41.700001</td>\n",
       "      <td>39.910000</td>\n",
       "      <td>40.779999</td>\n",
       "      <td>40.110001</td>\n",
       "      <td>629600.0</td>\n",
       "      <td>39.361107</td>\n",
       "    </tr>\n",
       "    <tr>\n",
       "      <th>6243</th>\n",
       "      <td>2019-08-22</td>\n",
       "      <td>NWL</td>\n",
       "      <td>16.580000</td>\n",
       "      <td>15.700000</td>\n",
       "      <td>16.530001</td>\n",
       "      <td>15.760000</td>\n",
       "      <td>4343900.0</td>\n",
       "      <td>15.351724</td>\n",
       "    </tr>\n",
       "    <tr>\n",
       "      <th>6244</th>\n",
       "      <td>2019-08-22</td>\n",
       "      <td>PLT</td>\n",
       "      <td>28.700001</td>\n",
       "      <td>26.700001</td>\n",
       "      <td>28.410000</td>\n",
       "      <td>28.150000</td>\n",
       "      <td>656900.0</td>\n",
       "      <td>27.990057</td>\n",
       "    </tr>\n",
       "    <tr>\n",
       "      <th>6245</th>\n",
       "      <td>2019-08-22</td>\n",
       "      <td>SMG</td>\n",
       "      <td>108.489998</td>\n",
       "      <td>102.720001</td>\n",
       "      <td>108.410004</td>\n",
       "      <td>102.980003</td>\n",
       "      <td>635500.0</td>\n",
       "      <td>101.806084</td>\n",
       "    </tr>\n",
       "    <tr>\n",
       "      <th>6246</th>\n",
       "      <td>2019-08-22</td>\n",
       "      <td>YETI</td>\n",
       "      <td>29.000000</td>\n",
       "      <td>26.000000</td>\n",
       "      <td>28.600000</td>\n",
       "      <td>26.129999</td>\n",
       "      <td>1851000.0</td>\n",
       "      <td>26.129999</td>\n",
       "    </tr>\n",
       "    <tr>\n",
       "      <th>6247</th>\n",
       "      <td>2019-08-25</td>\n",
       "      <td>CAJ</td>\n",
       "      <td>25.670000</td>\n",
       "      <td>25.520000</td>\n",
       "      <td>25.610001</td>\n",
       "      <td>25.600000</td>\n",
       "      <td>270300.0</td>\n",
       "      <td>25.600000</td>\n",
       "    </tr>\n",
       "    <tr>\n",
       "      <th>6248</th>\n",
       "      <td>2019-08-25</td>\n",
       "      <td>CHD</td>\n",
       "      <td>79.320000</td>\n",
       "      <td>78.459999</td>\n",
       "      <td>78.779999</td>\n",
       "      <td>79.150002</td>\n",
       "      <td>872400.0</td>\n",
       "      <td>78.886047</td>\n",
       "    </tr>\n",
       "    <tr>\n",
       "      <th>6249</th>\n",
       "      <td>2019-08-25</td>\n",
       "      <td>FIT</td>\n",
       "      <td>3.080000</td>\n",
       "      <td>2.890000</td>\n",
       "      <td>3.070000</td>\n",
       "      <td>2.940000</td>\n",
       "      <td>3991000.0</td>\n",
       "      <td>2.940000</td>\n",
       "    </tr>\n",
       "    <tr>\n",
       "      <th>6250</th>\n",
       "      <td>2019-08-25</td>\n",
       "      <td>GNC</td>\n",
       "      <td>1.960000</td>\n",
       "      <td>1.830000</td>\n",
       "      <td>1.840000</td>\n",
       "      <td>1.940000</td>\n",
       "      <td>1520200.0</td>\n",
       "      <td>1.940000</td>\n",
       "    </tr>\n",
       "    <tr>\n",
       "      <th>6251</th>\n",
       "      <td>2019-08-25</td>\n",
       "      <td>GPRO</td>\n",
       "      <td>4.070000</td>\n",
       "      <td>3.875000</td>\n",
       "      <td>4.010000</td>\n",
       "      <td>3.960000</td>\n",
       "      <td>3195300.0</td>\n",
       "      <td>3.960000</td>\n",
       "    </tr>\n",
       "    <tr>\n",
       "      <th>6252</th>\n",
       "      <td>2019-08-25</td>\n",
       "      <td>HENKY</td>\n",
       "      <td>22.330000</td>\n",
       "      <td>22.200001</td>\n",
       "      <td>22.209999</td>\n",
       "      <td>22.280001</td>\n",
       "      <td>23700.0</td>\n",
       "      <td>22.280001</td>\n",
       "    </tr>\n",
       "    <tr>\n",
       "      <th>6253</th>\n",
       "      <td>2019-08-25</td>\n",
       "      <td>NUS</td>\n",
       "      <td>40.599998</td>\n",
       "      <td>39.369999</td>\n",
       "      <td>40.500000</td>\n",
       "      <td>40.139999</td>\n",
       "      <td>493300.0</td>\n",
       "      <td>39.390549</td>\n",
       "    </tr>\n",
       "    <tr>\n",
       "      <th>6254</th>\n",
       "      <td>2019-08-25</td>\n",
       "      <td>NWL</td>\n",
       "      <td>15.970000</td>\n",
       "      <td>15.720000</td>\n",
       "      <td>15.880000</td>\n",
       "      <td>15.820000</td>\n",
       "      <td>3045300.0</td>\n",
       "      <td>15.410170</td>\n",
       "    </tr>\n",
       "    <tr>\n",
       "      <th>6255</th>\n",
       "      <td>2019-08-25</td>\n",
       "      <td>PLT</td>\n",
       "      <td>29.200001</td>\n",
       "      <td>28.090000</td>\n",
       "      <td>28.590000</td>\n",
       "      <td>29.150000</td>\n",
       "      <td>769600.0</td>\n",
       "      <td>28.984375</td>\n",
       "    </tr>\n",
       "    <tr>\n",
       "      <th>6256</th>\n",
       "      <td>2019-08-25</td>\n",
       "      <td>SMG</td>\n",
       "      <td>105.059998</td>\n",
       "      <td>102.750000</td>\n",
       "      <td>103.300003</td>\n",
       "      <td>104.989998</td>\n",
       "      <td>458400.0</td>\n",
       "      <td>104.381058</td>\n",
       "    </tr>\n",
       "    <tr>\n",
       "      <th>6257</th>\n",
       "      <td>2019-08-25</td>\n",
       "      <td>YETI</td>\n",
       "      <td>27.799999</td>\n",
       "      <td>25.180000</td>\n",
       "      <td>27.200001</td>\n",
       "      <td>25.780001</td>\n",
       "      <td>1572000.0</td>\n",
       "      <td>25.780001</td>\n",
       "    </tr>\n",
       "  </tbody>\n",
       "</table>\n",
       "</div>"
      ],
      "text/plain": [
       "           Date Ticker        High         Low        Open       Close  \\\n",
       "6236 2019-08-22    CAJ   25.870001   25.490000   25.650000   25.520000   \n",
       "6237 2019-08-22    CHD   79.959999   78.139999   79.230003   78.500000   \n",
       "6238 2019-08-22    FIT    3.215000    3.020000    3.110000    3.030000   \n",
       "6239 2019-08-22    GNC    1.900000    1.750000    1.880000    1.800000   \n",
       "6240 2019-08-22   GPRO    4.210000    3.950000    4.190000    3.960000   \n",
       "6241 2019-08-22  HENKY   22.330000   21.969999   22.129999   22.020000   \n",
       "6242 2019-08-22    NUS   41.700001   39.910000   40.779999   40.110001   \n",
       "6243 2019-08-22    NWL   16.580000   15.700000   16.530001   15.760000   \n",
       "6244 2019-08-22    PLT   28.700001   26.700001   28.410000   28.150000   \n",
       "6245 2019-08-22    SMG  108.489998  102.720001  108.410004  102.980003   \n",
       "6246 2019-08-22   YETI   29.000000   26.000000   28.600000   26.129999   \n",
       "6247 2019-08-25    CAJ   25.670000   25.520000   25.610001   25.600000   \n",
       "6248 2019-08-25    CHD   79.320000   78.459999   78.779999   79.150002   \n",
       "6249 2019-08-25    FIT    3.080000    2.890000    3.070000    2.940000   \n",
       "6250 2019-08-25    GNC    1.960000    1.830000    1.840000    1.940000   \n",
       "6251 2019-08-25   GPRO    4.070000    3.875000    4.010000    3.960000   \n",
       "6252 2019-08-25  HENKY   22.330000   22.200001   22.209999   22.280001   \n",
       "6253 2019-08-25    NUS   40.599998   39.369999   40.500000   40.139999   \n",
       "6254 2019-08-25    NWL   15.970000   15.720000   15.880000   15.820000   \n",
       "6255 2019-08-25    PLT   29.200001   28.090000   28.590000   29.150000   \n",
       "6256 2019-08-25    SMG  105.059998  102.750000  103.300003  104.989998   \n",
       "6257 2019-08-25   YETI   27.799999   25.180000   27.200001   25.780001   \n",
       "\n",
       "         Volume   Adj_Close  \n",
       "6236   394200.0   25.520000  \n",
       "6237   990100.0   78.238220  \n",
       "6238  4607700.0    3.030000  \n",
       "6239   820500.0    1.800000  \n",
       "6240  3031300.0    3.960000  \n",
       "6241    31700.0   22.020000  \n",
       "6242   629600.0   39.361107  \n",
       "6243  4343900.0   15.351724  \n",
       "6244   656900.0   27.990057  \n",
       "6245   635500.0  101.806084  \n",
       "6246  1851000.0   26.129999  \n",
       "6247   270300.0   25.600000  \n",
       "6248   872400.0   78.886047  \n",
       "6249  3991000.0    2.940000  \n",
       "6250  1520200.0    1.940000  \n",
       "6251  3195300.0    3.960000  \n",
       "6252    23700.0   22.280001  \n",
       "6253   493300.0   39.390549  \n",
       "6254  3045300.0   15.410170  \n",
       "6255   769600.0   28.984375  \n",
       "6256   458400.0  104.381058  \n",
       "6257  1572000.0   25.780001  "
      ]
     },
     "execution_count": 8,
     "metadata": {},
     "output_type": "execute_result"
    }
   ],
   "source": [
    "#Merge Potoo dataset and Company_Stock Dataset, the stock price is second days` price\n",
    "Company_Stock['Date'] = pd.to_datetime(Company_Stock['Date'])\n",
    "Company_Stock['Date'] = Company_Stock['Date'] - timedelta(days=1)\n",
    "Company_Stock.tail(22)"
   ]
  },
  {
   "cell_type": "code",
   "execution_count": 9,
   "metadata": {},
   "outputs": [],
   "source": [
    "Company_Stock.to_csv('Company_Stock.csv')"
   ]
  },
  {
   "cell_type": "code",
   "execution_count": 10,
   "metadata": {},
   "outputs": [],
   "source": [
    "company_stock = pd.read_csv('Company_Stock.csv',index_col=0)\n",
    "company_stock['Date'] = pd.to_datetime(company_stock['Date'])\n",
    "potoo_new = pd.merge(potoo, company_stock, on =[\"Date\", \"Ticker\"], how ='left')\n",
    "potoo_new.reset_index(drop=True, inplace = True)"
   ]
  },
  {
   "cell_type": "markdown",
   "metadata": {},
   "source": [
    "# 5. Explorate Data Analysis\n",
    "* When merging two dataset, we choose the start price of second day since the influence of first day sale will be placed on the stock price of second day\n",
    "* Carefully clean dataset, some stock of company are not trading for a couple of days, some companies are not list in major market, which is not proper for analysis.\n",
    "* Drop duplicates\n",
    "* There is no stock trade in weekend and holiday, so fill the missing value using the stock price in next trade day."
   ]
  },
  {
   "cell_type": "code",
   "execution_count": 11,
   "metadata": {},
   "outputs": [],
   "source": [
    "#fill the last day of kinds of company\n",
    "Ticker = ['NUS', 'CAJ', 'GNC', 'SMG']\n",
    "for i in Ticker:\n",
    "    potoo_new.loc[(potoo_new.Ticker ==i) & (potoo_new.Date == datetime.datetime(2019, 8, 23)), ['High', 'Low'\n",
    "                                                                                           ,'Open', 'Close', 'Volume', 'Adj_Close']] = company_stock.loc[(company_stock.Ticker ==i) & (company_stock.Date == datetime.datetime(2019, 8, 25)), ['High', 'Low'\n",
    "                                                                                        ,'Open', 'Close', 'Volume', 'Adj_Close']]"
   ]
  },
  {
   "cell_type": "code",
   "execution_count": 12,
   "metadata": {},
   "outputs": [],
   "source": [
    "potoo_new.loc[(potoo_new.Ticker =='Yeti') & (potoo_new.Date == datetime.datetime(2019, 8, 24)), ['High', 'Low'\n",
    "                                                                                           ,'Open', 'Close', 'Volume', 'Adj_Close']] = company_stock.loc[(\n",
    "    company_stock.Ticker == 'Yeti') & (company_stock.Date == datetime.datetime(2019, 8, 25)), ['High', 'Low'\n",
    "                                                                                        ,'Open', 'Close', 'Volume', 'Adj_Close']]"
   ]
  },
  {
   "cell_type": "code",
   "execution_count": 13,
   "metadata": {},
   "outputs": [
    {
     "data": {
      "text/plain": [
       "Date                     0\n",
       "Ticker                   0\n",
       "Parent_Company           0\n",
       "Brand_Name               0\n",
       "Product_Category         0\n",
       "Product_ASIN             0\n",
       "Product_Name             0\n",
       "Seller_Name              0\n",
       "Stock                    0\n",
       "Price                    0\n",
       "Units_Sold               0\n",
       "Total_Sales              0\n",
       "High                130211\n",
       "Low                 130211\n",
       "Open                130211\n",
       "Close               130211\n",
       "Volume              130211\n",
       "Adj_Close           130211\n",
       "dtype: int64"
      ]
     },
     "execution_count": 13,
     "metadata": {},
     "output_type": "execute_result"
    }
   ],
   "source": [
    "#explore the dataset -- Missing Value\n",
    "potoo_new.isnull().sum()"
   ]
  },
  {
   "cell_type": "code",
   "execution_count": 14,
   "metadata": {},
   "outputs": [
    {
     "data": {
      "text/plain": [
       "Date                0\n",
       "Ticker              0\n",
       "Parent_Company      0\n",
       "Brand_Name          0\n",
       "Product_Category    0\n",
       "Product_ASIN        0\n",
       "Product_Name        0\n",
       "Seller_Name         0\n",
       "Stock               0\n",
       "Price               0\n",
       "Units_Sold          0\n",
       "Total_Sales         0\n",
       "High                0\n",
       "Low                 0\n",
       "Open                0\n",
       "Close               0\n",
       "Volume              0\n",
       "Adj_Close           0\n",
       "dtype: int64"
      ]
     },
     "execution_count": 14,
     "metadata": {},
     "output_type": "execute_result"
    }
   ],
   "source": [
    "#fill missing value by back fill\n",
    "potoo_new.sort_values(by=['Date','Ticker'],inplace=True)\n",
    "potoo_new.fillna(method='bfill',inplace=True)\n",
    "potoo_new.isnull().sum()"
   ]
  },
  {
   "cell_type": "code",
   "execution_count": 15,
   "metadata": {},
   "outputs": [],
   "source": [
    "#Delete Duplicates\n",
    "potoo_new = potoo_new.drop_duplicates()"
   ]
  },
  {
   "cell_type": "code",
   "execution_count": 16,
   "metadata": {},
   "outputs": [],
   "source": [
    "#choose the second day`s open price as target variable\n",
    "potoo_new[\"stock_price\"] = potoo_new.Open\n",
    "potoo_new.drop([\"High\", \"Low\", \"Open\", \"Close\", \"Volume\", \"Adj_Close\"], axis = 1, inplace = True)\n",
    "df = potoo_new"
   ]
  },
  {
   "cell_type": "markdown",
   "metadata": {},
   "source": [
    "# 6.Correlation Analysis\n",
    "\n",
    "* Analyzed the correlation between market attributes and stock price in kinds of segments to find the attribute that places most influence on stock market.\n",
    "* Set the different time including 1 day, 1 week and 1 month, since the influence may have latency"
   ]
  },
  {
   "cell_type": "code",
   "execution_count": 17,
   "metadata": {},
   "outputs": [],
   "source": [
    "#Create a correlation dataframe for correlation values\n",
    "corr = pd.DataFrame(columns=['Ticker','Parent_Company', \"Brand_Name\",'Product_Category', 'Feature','co_value', 'p_value'])"
   ]
  },
  {
   "cell_type": "markdown",
   "metadata": {},
   "source": [
    "1 day delay\n",
    "* the correlation between Tick and stock price"
   ]
  },
  {
   "cell_type": "code",
   "execution_count": 18,
   "metadata": {},
   "outputs": [],
   "source": [
    "#group by Ticker\n",
    "f = {\n",
    "    'Stock':['sum'],\n",
    "    \"Units_Sold\" : ['sum'],\n",
    "   \"Price\" : ['mean'],\n",
    "   'Total_Sales': ['sum'],\n",
    "   'stock_price': ['mean']\n",
    "}\n",
    "df_t = df.groupby(['Date', 'Ticker'], as_index = True).agg(f).reset_index()\n",
    "df_t.columns = [\"Date\", \"Ticker\", \"Stock(Sum)\", \"Units_Sold(Sum)\", \"Price(mean)\", \"Total_Sales(Sum)\", \"Stock_price\"]"
   ]
  },
  {
   "cell_type": "code",
   "execution_count": 19,
   "metadata": {},
   "outputs": [],
   "source": [
    "#calculate relationship between each variabel and stock price and input in correlation dataframe\n",
    "company = ['GPRO', 'FIT', 'NWL', 'PLT', 'HENKY', 'CHD', 'YETI','NUS', 'CAJ', 'GNC', 'SMG']\n",
    "features_list=['Stock(Sum)','Price(mean)','Units_Sold(Sum)','Total_Sales(Sum)']\n",
    "for i in company:\n",
    "    for t in features_list:\n",
    "        a = df_t.loc[df_t.Ticker == i][t]\n",
    "        b = df_t.loc[df_t.Ticker == i].Stock_price\n",
    "        c = pearsonr(a,b)\n",
    "        corr = corr.append({'Ticker': i, 'Feature': t, 'co_value' :c[0], 'p_value': c[1]}, ignore_index=True)"
   ]
  },
  {
   "cell_type": "markdown",
   "metadata": {},
   "source": [
    "* parent company and stock price "
   ]
  },
  {
   "cell_type": "code",
   "execution_count": 20,
   "metadata": {},
   "outputs": [],
   "source": [
    "#Group by Parent Company\n",
    "df_pc = df.groupby(['Date', 'Ticker', 'Parent_Company'], as_index = True).agg(f).reset_index()\n",
    "df_pc.columns = [\"Date\", \"Ticker\", \"Parent_Company\", \"Stock(Sum)\", \"Units_Sold(Sum)\", \"Price(mean)\", \"Total_Sales(Sum)\", \"Stock_price\"]"
   ]
  },
  {
   "cell_type": "code",
   "execution_count": 21,
   "metadata": {},
   "outputs": [],
   "source": [
    "parent_company = ['Newell Appliances & Cookware', 'Newell Writing', 'GoPro',\n",
    "       'Newell', 'Newell Outdoor & Recreation', 'Newell Food',\n",
    "       'Newell Other', 'Newell Connected Home & Security', 'Henkel',\n",
    "       'Miracle-Gro', 'Nuskin', 'GNC Holdings', 'YETI', 'Fitbit',\n",
    "       'Plantronics', 'Church and Dwight', 'Canon']\n",
    "Ticker = ['GPRO', 'FIT', 'NWL', 'PLT', 'HENKY', 'CHD', 'YETI','NUS', 'CAJ', 'GNC', 'SMG']\n",
    "features_list=[ \"Stock(Sum)\", \"Units_Sold(Sum)\", \"Price(mean)\", \"Total_Sales(Sum)\"]\n",
    "for p in parent_company:\n",
    "    for t in features_list:\n",
    "        a = df_pc.loc[ (df_pc.Parent_Company == p)][t]\n",
    "        b = df_pc.loc[ (df_pc.Parent_Company == p)].Stock_price\n",
    "        c = pearsonr(a,b)\n",
    "        d = df_pc.loc[ (df_pc.Parent_Company == p)]['Ticker'].unique()\n",
    "        corr = corr.append({'Ticker': d, 'Parent_Company':p,'Feature': t, 'co_value' :c[0], 'p_value': c[1]}, ignore_index=True)"
   ]
  },
  {
   "cell_type": "markdown",
   "metadata": {},
   "source": [
    "* Brand name and stock price"
   ]
  },
  {
   "cell_type": "code",
   "execution_count": 22,
   "metadata": {},
   "outputs": [],
   "source": [
    "#Group by Brand Name\n",
    "df_bn = df.groupby(['Date', 'Ticker','Parent_Company', 'Brand_Name'], as_index = True).agg(f).reset_index()\n",
    "df_bn.columns = [\"Date\", \"Ticker\",\"Parent_Company\", \"Brand_Name\", \"Stock(Sum)\", \"Units_Sold(Sum)\", \"Price(mean)\", \"Total_Sales(Sum)\", \"Stock_price\"]"
   ]
  },
  {
   "cell_type": "code",
   "execution_count": 23,
   "metadata": {},
   "outputs": [
    {
     "name": "stderr",
     "output_type": "stream",
     "text": [
      "E:\\Anaconda\\lib\\site-packages\\scipy\\stats\\stats.py:3049: RuntimeWarning: invalid value encountered in double_scalars\n",
      "  0.5*df, 0.5, np.fmin(np.asarray(df / (df + t_squared)), 1.0)\n",
      "E:\\Anaconda\\lib\\site-packages\\scipy\\stats\\stats.py:3038: RuntimeWarning: invalid value encountered in double_scalars\n",
      "  r = r_num / r_den\n"
     ]
    }
   ],
   "source": [
    "brand_name = ['Sunbeam', 'Waterman', 'GoPro', 'FoodSaver', 'Calphalon',\n",
    "       'First Alert', 'Contigo', 'Oster', 'Mr. Coffee', 'Ball',\n",
    "       'Crock-Pot', 'Elmers', 'Rubbermaid', 'Sistema', 'Bicycle',\n",
    "       'Mr. Sketch', 'Prismacolor', 'X-Acto', 'BRK', 'DYMO', 'Parker',\n",
    "       'Sharpie', 'Quickie', 'Rubbermaid Commercial Products',\n",
    "       'Paper Mate', 'WoodWick', 'Coleman', 'Spontex', 'Campingaz',\n",
    "       'Rotring', 'AeroBed', 'NUK', 'Purex', 'Renuzit', 'Dial', 'Persil',\n",
    "       'Right Guard', 'Soft Scrub', 'Tone', 'Schwarzkopf', 'Baby Jogger',\n",
    "       'Schwarzkopf Professional', 'Miracle-Gro', 'Nu Skin', 'Stearns',\n",
    "       'Schwarzkopf BC REPAIR RESCUE', 'Schwarzkopf Hair Color',\n",
    "       'Chesapeake Bay Candle', 'GNC', 'YETI', 'Loctite', 'Snuggle',\n",
    "       'Henkel', 'Combat', 'Pritt', 'Sunlight', 'all', 'Rexona', 'Syoss',\n",
    "       'Graco', 'bubba', 'Fitbit', 'Plantronics', 'Marmot', 'Mammut',\n",
    "       'Nair', 'OxiClean', 'Canon', 'Arm & Hammer', 'First Response',\n",
    "       'Jarrow', 'Phillips', 'Rephresh', 'TROJAN', 'vH essentials', 'EPI',\n",
    "       'Kaboom', 'Arrid', 'Feline Pine', 'Lil Critters', 'Orajel',\n",
    "       'Viviscal', 'Waterpik', 'Orange Glo', 'Replens', 'NutraBlast',\n",
    "       'Fels Naptha', 'Gliss', 'Smooth N Shine', 'Reynolds',\n",
    "       'Balance Complex']\n",
    "Ticker = ['GPRO', 'FIT', 'NWL', 'PLT', 'HENKY', 'CHD', 'YETI','NUS', 'CAJ', 'GNC', 'SMG']\n",
    "features_list=[ \"Stock(Sum)\", \"Units_Sold(Sum)\", \"Price(mean)\", \"Total_Sales(Sum)\"]\n",
    "for p in brand_name:\n",
    "    for t in features_list:\n",
    "        a = df_bn.loc[ (df_bn.Brand_Name == p)][t]\n",
    "        b = df_bn.loc[ (df_bn.Brand_Name == p)].Stock_price\n",
    "        c = pearsonr(a,b)\n",
    "        d = df_bn.loc[ (df_bn.Brand_Name == p)]['Parent_Company'].unique()\n",
    "        e = df_bn.loc[(df_bn.Brand_Name == p)]['Ticker'].unique()\n",
    "        corr = corr.append({'Ticker': e, 'Parent_Company':d,'Brand_Name':p,'Feature': t, 'co_value' :c[0], 'p_value': c[1]}, ignore_index=True)"
   ]
  },
  {
   "cell_type": "code",
   "execution_count": 24,
   "metadata": {},
   "outputs": [],
   "source": [
    "corr.to_csv('correlation_1day_dely.csv')"
   ]
  },
  {
   "cell_type": "markdown",
   "metadata": {},
   "source": [
    "# 6.2 A week delay"
   ]
  },
  {
   "cell_type": "code",
   "execution_count": 25,
   "metadata": {},
   "outputs": [],
   "source": [
    "#7day delay\n",
    "potoo_7day = pd.read_csv(\"potoo_delay7dayStockPrice.csv\")"
   ]
  },
  {
   "cell_type": "code",
   "execution_count": 26,
   "metadata": {},
   "outputs": [],
   "source": [
    "potoo_7day= potoo_7day.drop_duplicates()"
   ]
  },
  {
   "cell_type": "code",
   "execution_count": 27,
   "metadata": {},
   "outputs": [],
   "source": [
    "potoo_7day[\"stock_price\"] = potoo_7day.Open\n",
    "potoo_7day.loc[potoo_7day[\"Parent Company\"] == 'FitBit', \"Parent Company\"] = 'Fitbit'\n",
    "potoo_7day.drop([\"High\", \"Low\", \"Open\", \"Close\", \"Volume\", \"Adj Close\"], axis = 1, inplace = True)"
   ]
  },
  {
   "cell_type": "code",
   "execution_count": 28,
   "metadata": {},
   "outputs": [],
   "source": [
    "df_7 = potoo_7day"
   ]
  },
  {
   "cell_type": "code",
   "execution_count": 29,
   "metadata": {},
   "outputs": [],
   "source": [
    "f = {\n",
    "    'Stock':['sum'],\n",
    "    \"Units Sold\" : ['sum'],\n",
    "   \"Price\" : ['mean'],\n",
    "   'Total Sales': ['sum'],\n",
    "   'stock_price': ['mean']\n",
    "}\n",
    "df_7_c = df_7.groupby(['Date', 'Ticker'], as_index = True).agg(f).reset_index()\n",
    "df_7_c.columns = [\"Date\", \"Ticker\", \"Stock(Sum)\", \"Units_Sold(Sum)\", \"Price(mean)\", \"Total_Sales(Sum)\", \"Stock_price\"]"
   ]
  },
  {
   "cell_type": "code",
   "execution_count": 30,
   "metadata": {},
   "outputs": [],
   "source": [
    "corr_7day= pd.DataFrame(columns=['Ticker','Parent_Company', \"Brand_Name\",'Product_Category', 'Feature','co_value', 'p_value'])"
   ]
  },
  {
   "cell_type": "code",
   "execution_count": 31,
   "metadata": {},
   "outputs": [],
   "source": [
    "company = ['GPRO', 'FIT', 'NWL', 'PLT', 'HENKY', 'CHD', 'YETI','NUS', 'CAJ', 'GNC', 'SMG']\n",
    "features_list=['Stock(Sum)','Price(mean)','Units_Sold(Sum)','Total_Sales(Sum)']\n",
    "for i in company:\n",
    "    for t in features_list:\n",
    "        a = df_7_c.loc[df_7_c.Ticker == i][t]\n",
    "        b = df_7_c.loc[df_7_c.Ticker == i].Stock_price\n",
    "        c = pearsonr(a,b)\n",
    "        corr_7day = corr_7day.append({'Ticker': i, 'Feature': t, 'co_value' :c[0], 'p_value': c[1]}, ignore_index=True)"
   ]
  },
  {
   "cell_type": "code",
   "execution_count": 32,
   "metadata": {},
   "outputs": [],
   "source": [
    "#group by parent company\n",
    "df_7_pc = df_7.groupby(['Date', 'Ticker', 'Parent Company'], as_index = True).agg(f).reset_index()\n",
    "df_7_pc.columns = [\"Date\", \"Ticker\", 'Parent_Company', \"Stock(Sum)\", \"Units_Sold(Sum)\", \"Price(mean)\", \"Total_Sales(Sum)\", \"Stock_price\"]"
   ]
  },
  {
   "cell_type": "code",
   "execution_count": 33,
   "metadata": {},
   "outputs": [
    {
     "data": {
      "text/plain": [
       "array(['GoPro', 'Henkel', 'Newell', 'Newell Appliances & Cookware',\n",
       "       'Newell Food', 'Newell Other', 'Newell Outdoor & Recreation',\n",
       "       'Newell Writing', 'GNC Holdings', 'Nuskin',\n",
       "       'Newell Connected Home & Security', 'Miracle-Gro', 'YETI',\n",
       "       'Fitbit', 'Plantronics', 'Church and Dwight', 'Canon'],\n",
       "      dtype=object)"
      ]
     },
     "execution_count": 33,
     "metadata": {},
     "output_type": "execute_result"
    }
   ],
   "source": [
    "df_7_pc.Parent_Company.unique()"
   ]
  },
  {
   "cell_type": "code",
   "execution_count": 34,
   "metadata": {},
   "outputs": [],
   "source": [
    "parent_company = ['GoPro', 'Henkel', 'Newell', 'Newell Appliances & Cookware',\n",
    "       'Newell Food', 'Newell Other', 'Newell Outdoor & Recreation',\n",
    "       'Newell Writing', 'GNC Holdings', 'Nuskin',\n",
    "       'Newell Connected Home & Security', 'Miracle-Gro', 'YETI',\n",
    "       'Fitbit', 'Plantronics', 'Church and Dwight', 'Canon']\n",
    "Ticker = ['GPRO', 'FIT', 'NWL', 'PLT', 'HENKY', 'CHD', 'YETI','NUS', 'CAJ', 'GNC', 'SMG']\n",
    "features_list=[ \"Stock(Sum)\", \"Units_Sold(Sum)\", \"Price(mean)\", \"Total_Sales(Sum)\"]\n",
    "for p in parent_company:\n",
    "    for t in features_list:\n",
    "        a = df_7_pc.loc[ (df_7_pc.Parent_Company == p)][t]\n",
    "        b = df_7_pc.loc[ (df_7_pc.Parent_Company == p)].Stock_price\n",
    "        c = pearsonr(a,b)\n",
    "        d = df_7_pc.loc[ (df_7_pc.Parent_Company == p)]['Ticker'].unique()\n",
    "        corr_7day = corr_7day.append({'Ticker': d, 'Parent_Company':p,'Feature': t, 'co_value' :c[0], 'p_value': c[1]}, ignore_index=True)"
   ]
  },
  {
   "cell_type": "code",
   "execution_count": 35,
   "metadata": {},
   "outputs": [],
   "source": [
    "#group by Brand Name\n",
    "df_7_bn = df_7.groupby(['Date', 'Ticker','Parent Company', 'Brand Name'], as_index = True).agg(f).reset_index()\n",
    "df_7_bn.columns = [\"Date\", \"Ticker\",\"Parent_Company\", \"Brand_Name\", \"Stock(Sum)\", \"Units_Sold(Sum)\", \"Price(mean)\", \"Total_Sales(Sum)\", \"Stock_price\"]"
   ]
  },
  {
   "cell_type": "code",
   "execution_count": 36,
   "metadata": {},
   "outputs": [],
   "source": [
    "brand_name = ['GoPro', 'Dial', 'Persil', 'Purex', 'Renuzit', 'Right Guard',\n",
    "       'Soft Scrub', 'BRK', 'Ball', 'Calphalon', 'Contigo', 'Elmers',\n",
    "       'First Alert', 'FoodSaver', 'Oster', 'Paper Mate', 'Rubbermaid',\n",
    "       'Rubbermaid Commercial Products', 'Sharpie', 'WoodWick',\n",
    "       'Mr. Coffee', 'Sunbeam', 'Sistema', 'Bicycle', 'Quickie',\n",
    "       'Spontex', 'DYMO', 'Mr. Sketch', 'Parker', 'Prismacolor',\n",
    "       'Rotring', 'Waterman', 'X-Acto', 'GNC', 'Loctite', 'Schwarzkopf',\n",
    "       'Schwarzkopf Professional', 'Nu Skin', 'NUK', 'AeroBed', 'Coleman',\n",
    "       'Stearns', 'Miracle-Gro', 'YETI', 'Chesapeake Bay Candle',\n",
    "       'Campingaz', 'Combat', 'Henkel', 'Pritt', 'Snuggle', 'Sunlight',\n",
    "       'all', 'Rexona', 'Crock-Pot', 'Tone',\n",
    "       'Schwarzkopf BC REPAIR RESCUE', 'Syoss', 'Graco', 'Baby Jogger',\n",
    "       'Fitbit', 'bubba', 'Plantronics', 'Marmot',\n",
    "       'Schwarzkopf Hair Color', 'Mammut', 'Nair', 'OxiClean', 'Canon',\n",
    "       'Arm & Hammer', 'First Response', 'Jarrow', 'Phillips', 'Rephresh',\n",
    "       'TROJAN', 'vH essentials', 'EPI', 'Kaboom', 'Arrid', 'Feline Pine',\n",
    "       'Lil Critters', 'Orajel', 'Orange Glo', 'Replens', 'Viviscal',\n",
    "       'Waterpik', 'NutraBlast', 'Fels Naptha', 'Gliss', 'Smooth N Shine',\n",
    "       'Reynolds', 'Balance Complex']\n",
    "Ticker = ['GPRO', 'FIT', 'NWL', 'PLT', 'HENKY', 'CHD', 'YETI','NUS', 'CAJ', 'GNC', 'SMG']\n",
    "features_list=[ \"Stock(Sum)\", \"Units_Sold(Sum)\", \"Price(mean)\", \"Total_Sales(Sum)\"]\n",
    "for p in brand_name:\n",
    "    for t in features_list:\n",
    "        a = df_7_bn.loc[ (df_7_bn.Brand_Name == p)][t]\n",
    "        b = df_7_bn.loc[ (df_7_bn.Brand_Name == p)].Stock_price\n",
    "        c = pearsonr(a,b)\n",
    "        d = df_7_bn.loc[ (df_7_bn.Brand_Name == p)]['Parent_Company'].unique()\n",
    "        e = df_7_bn.loc[(df_7_bn.Brand_Name == p)]['Ticker'].unique()\n",
    "        corr_7day = corr_7day.append({'Ticker': e, 'Parent_Company':d,'Brand_Name':p,'Feature': t, 'co_value' :c[0], 'p_value': c[1]}, ignore_index=True)"
   ]
  },
  {
   "cell_type": "code",
   "execution_count": 37,
   "metadata": {},
   "outputs": [],
   "source": [
    "corr_7day.to_csv('correlation_delay7days.csv')"
   ]
  },
  {
   "cell_type": "markdown",
   "metadata": {},
   "source": [
    "# 6.3 28 Days"
   ]
  },
  {
   "cell_type": "code",
   "execution_count": 38,
   "metadata": {},
   "outputs": [],
   "source": [
    "## delay 28days\n",
    "potoo_28day = pd.read_csv(\"potoo_delay28dayStockPrice.csv\")\n",
    "potoo_28day = potoo_28day.drop_duplicates()"
   ]
  },
  {
   "cell_type": "code",
   "execution_count": 39,
   "metadata": {},
   "outputs": [],
   "source": [
    "potoo_28day[\"stock_price\"] = potoo_28day.Open\n",
    "potoo_28day.loc[potoo_28day[\"Parent Company\"] == 'FitBit', \"Parent Company\"] = 'Fitbit'\n",
    "potoo_28day.drop([\"High\", \"Low\", \"Open\", \"Close\", \"Volume\", \"Adj Close\"], axis = 1, inplace = True)\n",
    "df_28= potoo_28day"
   ]
  },
  {
   "cell_type": "code",
   "execution_count": 40,
   "metadata": {},
   "outputs": [],
   "source": [
    "#group by TiCKER\n",
    "f = {\n",
    "    'Stock':['sum'],\n",
    "    \"Units Sold\" : ['sum'],\n",
    "   \"Price\" : ['mean'],\n",
    "   'Total Sales': ['sum'],\n",
    "   'stock_price': ['mean']\n",
    "}\n",
    "df_28_t= df_28.groupby(['Date', 'Ticker'], as_index = True).agg(f).reset_index()\n",
    "df_28_t.columns = [\"Date\", \"Ticker\", \"Stock(Sum)\", \"Units_Sold(Sum)\", \"Price(mean)\", \"Total_Sales(Sum)\", \"Stock_price\"]"
   ]
  },
  {
   "cell_type": "code",
   "execution_count": 41,
   "metadata": {},
   "outputs": [],
   "source": [
    "corr_28day= pd.DataFrame(columns=['Ticker','Parent_Company', \"Brand_Name\",'Product_Category', 'Feature','co_value', 'p_value'])"
   ]
  },
  {
   "cell_type": "code",
   "execution_count": 42,
   "metadata": {},
   "outputs": [],
   "source": [
    "company = ['GPRO', 'FIT', 'NWL', 'PLT', 'HENKY', 'CHD', 'YETI','NUS', 'CAJ', 'GNC', 'SMG']\n",
    "features_list=['Stock(Sum)','Price(mean)','Units_Sold(Sum)','Total_Sales(Sum)']\n",
    "for i in company:\n",
    "    for t in features_list:\n",
    "        a = df_28_t.loc[df_28_t.Ticker == i][t]\n",
    "        b = df_28_t.loc[df_28_t.Ticker == i].Stock_price\n",
    "        c = pearsonr(a,b)\n",
    "        corr_28day = corr_28day.append({'Ticker': i, 'Feature': t, 'co_value' :c[0], 'p_value': c[1]}, ignore_index=True)"
   ]
  },
  {
   "cell_type": "code",
   "execution_count": 43,
   "metadata": {},
   "outputs": [],
   "source": [
    "#group by parent company\n",
    "df_28_pc = df_28.groupby(['Date', 'Ticker', 'Parent Company'], as_index = True).agg(f).reset_index()\n",
    "df_28_pc.columns = [\"Date\", \"Ticker\", 'Parent_Company', \"Stock(Sum)\", \"Units_Sold(Sum)\", \"Price(mean)\", \"Total_Sales(Sum)\", \"Stock_price\"]"
   ]
  },
  {
   "cell_type": "code",
   "execution_count": 44,
   "metadata": {},
   "outputs": [],
   "source": [
    "parent_company = ['GoPro', 'Henkel', 'Newell', 'Newell Appliances & Cookware',\n",
    "       'Newell Food', 'Newell Other', 'Newell Outdoor & Recreation',\n",
    "       'Newell Writing', 'GNC Holdings', 'Nuskin',\n",
    "       'Newell Connected Home & Security', 'Miracle-Gro', 'YETI',\n",
    "       'Fitbit', 'Plantronics', 'Church and Dwight', 'Canon']\n",
    "Ticker = ['GPRO', 'FIT', 'NWL', 'PLT', 'HENKY', 'CHD', 'YETI','NUS', 'CAJ', 'GNC', 'SMG']\n",
    "features_list=[ \"Stock(Sum)\", \"Units_Sold(Sum)\", \"Price(mean)\", \"Total_Sales(Sum)\"]\n",
    "for p in parent_company:\n",
    "    for t in features_list:\n",
    "        a = df_28_pc.loc[ (df_28_pc.Parent_Company == p)][t]\n",
    "        b = df_28_pc.loc[ (df_28_pc.Parent_Company == p)].Stock_price\n",
    "        c = pearsonr(a,b)\n",
    "        d = df_28_pc.loc[ (df_28_pc.Parent_Company == p)]['Ticker'].unique()\n",
    "        corr_28day = corr_28day.append({'Ticker': d, 'Parent_Company':p,'Feature': t, 'co_value' :c[0], 'p_value': c[1]}, ignore_index=True)"
   ]
  },
  {
   "cell_type": "code",
   "execution_count": 45,
   "metadata": {},
   "outputs": [],
   "source": [
    "#group by Brand Name\n",
    "df_28_bn = df_28.groupby(['Date', 'Ticker','Parent Company', 'Brand Name'], as_index = True).agg(f).reset_index()\n",
    "df_28_bn.columns = [\"Date\", \"Ticker\",\"Parent_Company\", \"Brand_Name\", \"Stock(Sum)\", \"Units_Sold(Sum)\", \"Price(mean)\", \"Total_Sales(Sum)\", \"Stock_price\"]"
   ]
  },
  {
   "cell_type": "code",
   "execution_count": 46,
   "metadata": {},
   "outputs": [],
   "source": [
    "brand_name = ['GoPro', 'Dial', 'Persil', 'Purex', 'Renuzit', 'Right Guard',\n",
    "       'Soft Scrub', 'BRK', 'Ball', 'Calphalon', 'Contigo', 'Elmers',\n",
    "       'First Alert', 'FoodSaver', 'Oster', 'Paper Mate', 'Rubbermaid',\n",
    "       'Rubbermaid Commercial Products', 'Sharpie', 'WoodWick',\n",
    "       'Mr. Coffee', 'Sunbeam', 'Sistema', 'Bicycle', 'Quickie',\n",
    "       'Spontex', 'DYMO', 'Mr. Sketch', 'Parker', 'Prismacolor',\n",
    "       'Rotring', 'Waterman', 'X-Acto', 'GNC', 'Loctite', 'Schwarzkopf',\n",
    "       'Schwarzkopf Professional', 'Nu Skin', 'NUK', 'AeroBed', 'Coleman',\n",
    "       'Stearns', 'Miracle-Gro', 'YETI', 'Chesapeake Bay Candle',\n",
    "       'Campingaz', 'Combat', 'Henkel', 'Pritt', 'Snuggle', 'Sunlight',\n",
    "       'all', 'Rexona', 'Crock-Pot', 'Tone',\n",
    "       'Schwarzkopf BC REPAIR RESCUE', 'Syoss', 'Graco', 'Baby Jogger',\n",
    "       'Fitbit', 'bubba', 'Plantronics', 'Marmot',\n",
    "       'Schwarzkopf Hair Color', 'Mammut', 'Nair', 'OxiClean', 'Canon',\n",
    "       'Arm & Hammer', 'First Response', 'Jarrow', 'Phillips', 'Rephresh',\n",
    "       'TROJAN', 'vH essentials', 'EPI', 'Kaboom', 'Arrid', 'Feline Pine',\n",
    "       'Lil Critters', 'Orajel', 'Orange Glo', 'Replens', 'Viviscal',\n",
    "       'Waterpik', 'NutraBlast', 'Fels Naptha', 'Gliss', 'Smooth N Shine',\n",
    "       'Reynolds', 'Balance Complex']\n",
    "Ticker = ['GPRO', 'FIT', 'NWL', 'PLT', 'HENKY', 'CHD', 'YETI','NUS', 'CAJ', 'GNC', 'SMG']\n",
    "features_list=[ \"Stock(Sum)\", \"Units_Sold(Sum)\", \"Price(mean)\", \"Total_Sales(Sum)\"]\n",
    "for p in brand_name:\n",
    "    for t in features_list:\n",
    "        a = df_28_bn.loc[ (df_28_bn.Brand_Name == p)][t]\n",
    "        b = df_28_bn.loc[ (df_28_bn.Brand_Name == p)].Stock_price\n",
    "        c = pearsonr(a,b)\n",
    "        d = df_28_bn.loc[ (df_28_bn.Brand_Name == p)]['Parent_Company'].unique()\n",
    "        e = df_28_bn.loc[(df_28_bn.Brand_Name == p)]['Ticker'].unique()\n",
    "        corr_28day = corr_28day.append({'Ticker': e, 'Parent_Company':d,'Brand_Name':p,'Feature': t, 'co_value' :c[0], 'p_value': c[1]}, ignore_index=True)"
   ]
  },
  {
   "cell_type": "code",
   "execution_count": 47,
   "metadata": {},
   "outputs": [],
   "source": [
    "corr_28day.to_csv(\"correlation_delay28days.csv\")"
   ]
  }
 ],
 "metadata": {
  "kernelspec": {
   "display_name": "Python 3",
   "language": "python",
   "name": "python3"
  },
  "language_info": {
   "codemirror_mode": {
    "name": "ipython",
    "version": 3
   },
   "file_extension": ".py",
   "mimetype": "text/x-python",
   "name": "python",
   "nbconvert_exporter": "python",
   "pygments_lexer": "ipython3",
   "version": "3.7.3"
  }
 },
 "nbformat": 4,
 "nbformat_minor": 2
}
