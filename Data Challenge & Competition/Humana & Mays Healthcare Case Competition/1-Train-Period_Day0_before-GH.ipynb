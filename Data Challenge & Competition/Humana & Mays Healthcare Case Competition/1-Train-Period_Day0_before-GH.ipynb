{
 "cells": [
  {
   "cell_type": "code",
   "execution_count": 1,
   "metadata": {},
   "outputs": [],
   "source": [
    "import os\n",
    "import pandas as pd\n",
    "import numpy as np"
   ]
  },
  {
   "cell_type": "code",
   "execution_count": 2,
   "metadata": {},
   "outputs": [
    {
     "name": "stderr",
     "output_type": "stream",
     "text": [
      "E:\\Anaconda\\lib\\site-packages\\IPython\\core\\interactiveshell.py:3049: DtypeWarning: Columns (8) have mixed types. Specify dtype option on import or set low_memory=False.\n",
      "  interactivity=interactivity, compiler=compiler, result=result)\n"
     ]
    }
   ],
   "source": [
    "df = pd.read_csv(\"humana.csv\")"
   ]
  },
  {
   "cell_type": "markdown",
   "metadata": {},
   "source": [
    "# Preprocessing Dataset\n",
    "1. Drop Duplicates\n",
    "2. Filter the data which match the requirement of the compettion\n",
    "3. Subset the dataset for easier preprocessing\n",
    "4. Set some important features to calculate the medicine taken, naive periods, LTOT times"
   ]
  },
  {
   "cell_type": "code",
   "execution_count": 3,
   "metadata": {},
   "outputs": [
    {
     "data": {
      "text/plain": [
       "(5943463, 20)"
      ]
     },
     "execution_count": 3,
     "metadata": {},
     "output_type": "execute_result"
    }
   ],
   "source": [
    "df.shape"
   ]
  },
  {
   "cell_type": "code",
   "execution_count": 4,
   "metadata": {},
   "outputs": [],
   "source": [
    "f = {\"Days\" : [\"min\"]}\n",
    "df1 = df.groupby([\"id\"]).agg(f).reset_index()\n",
    "df1.columns = ['id', 'min_day']"
   ]
  },
  {
   "cell_type": "code",
   "execution_count": 5,
   "metadata": {},
   "outputs": [],
   "source": [
    "df = pd.merge( df, df1, on=['id'], how = 'left')"
   ]
  },
  {
   "cell_type": "code",
   "execution_count": 6,
   "metadata": {},
   "outputs": [],
   "source": [
    "not_null = pd.notnull(df[\"PAY_DAY_SUPPLY_CNT\"])"
   ]
  },
  {
   "cell_type": "code",
   "execution_count": 7,
   "metadata": {},
   "outputs": [],
   "source": [
    "filter1 = df[not_null]\n",
    "opioid1 = filter1.loc[(filter1.event_descr ==\"RX Claim - Paid\") & (filter1.MME>0)]\n",
    "opioid1 = opioid1.reset_index(drop = True)\n",
    "opioid1 = opioid1.sort_values(['id','Days',\t'PAY_DAY_SUPPLY_CNT'],ascending=[True, True, True])\n",
    "opioid1 = opioid1.reset_index(drop = True)"
   ]
  },
  {
   "cell_type": "code",
   "execution_count": 8,
   "metadata": {},
   "outputs": [
    {
     "data": {
      "text/plain": [
       "(240818, 5)"
      ]
     },
     "execution_count": 8,
     "metadata": {},
     "output_type": "execute_result"
    }
   ],
   "source": [
    "opioid = opioid1.loc[:,['id', 'PAY_DAY_SUPPLY_CNT','MME', 'Days', 'min_day']]\n",
    "opioid.shape"
   ]
  },
  {
   "cell_type": "code",
   "execution_count": 9,
   "metadata": {},
   "outputs": [
    {
     "data": {
      "text/plain": [
       "(75892, 5)"
      ]
     },
     "execution_count": 9,
     "metadata": {},
     "output_type": "execute_result"
    }
   ],
   "source": [
    "opioid = opioid.loc[opioid.Days<0]\n",
    "opioid.shape"
   ]
  },
  {
   "cell_type": "code",
   "execution_count": 10,
   "metadata": {},
   "outputs": [],
   "source": [
    "opioid = opioid.reset_index(drop=True)"
   ]
  },
  {
   "cell_type": "markdown",
   "metadata": {},
   "source": [
    "# Create new features"
   ]
  },
  {
   "cell_type": "code",
   "execution_count": 11,
   "metadata": {},
   "outputs": [],
   "source": [
    "#The number of Period\n",
    "opioid.loc[:,'Period'] = np.nan\n",
    "\n",
    "#The end days of period# time\n",
    "opioid.loc[:,'max_p_end'] = np.nan\n",
    "\n",
    "#How many medical the patient buy\n",
    "opioid.loc[:,'med_buy'] = np.nan\n",
    "\n",
    "#How many days the patient take all of drug\n",
    "opioid.loc[:,'day_count'] = np.nan\n",
    "\n",
    "#Is the patient can be attribute to navie\n",
    "opioid.loc[:,'windows'] =np.nan\n",
    "\n",
    "#The period of windows\n",
    "opioid.loc[:,'w_period'] =np.nan\n",
    "\n",
    "#the raiod of medicane taken in that period\n",
    "opioid.loc[:,'windows_count'] =np.nan"
   ]
  },
  {
   "cell_type": "markdown",
   "metadata": {},
   "source": [
    "Before the day 0, all time should be attribute to the first period"
   ]
  },
  {
   "cell_type": "code",
   "execution_count": 12,
   "metadata": {},
   "outputs": [],
   "source": [
    "opioid.loc[0,'Period'] = 1\n",
    "opioid.loc[0,'max_p_end'] = -614+180\n",
    "opioid.loc[0,'med_buy'] = 5\n",
    "opioid.loc[0,'day_count'] =5"
   ]
  },
  {
   "cell_type": "code",
   "execution_count": 13,
   "metadata": {},
   "outputs": [
    {
     "ename": "KeyError",
     "evalue": "75892",
     "output_type": "error",
     "traceback": [
      "\u001b[1;31m---------------------------------------------------------------------------\u001b[0m",
      "\u001b[1;31mKeyError\u001b[0m                                  Traceback (most recent call last)",
      "\u001b[1;32mE:\\Anaconda\\lib\\site-packages\\pandas\\core\\indexes\\base.py\u001b[0m in \u001b[0;36mget_loc\u001b[1;34m(self, key, method, tolerance)\u001b[0m\n\u001b[0;32m   2656\u001b[0m             \u001b[1;32mtry\u001b[0m\u001b[1;33m:\u001b[0m\u001b[1;33m\u001b[0m\u001b[1;33m\u001b[0m\u001b[0m\n\u001b[1;32m-> 2657\u001b[1;33m                 \u001b[1;32mreturn\u001b[0m \u001b[0mself\u001b[0m\u001b[1;33m.\u001b[0m\u001b[0m_engine\u001b[0m\u001b[1;33m.\u001b[0m\u001b[0mget_loc\u001b[0m\u001b[1;33m(\u001b[0m\u001b[0mkey\u001b[0m\u001b[1;33m)\u001b[0m\u001b[1;33m\u001b[0m\u001b[1;33m\u001b[0m\u001b[0m\n\u001b[0m\u001b[0;32m   2658\u001b[0m             \u001b[1;32mexcept\u001b[0m \u001b[0mKeyError\u001b[0m\u001b[1;33m:\u001b[0m\u001b[1;33m\u001b[0m\u001b[1;33m\u001b[0m\u001b[0m\n",
      "\u001b[1;32mpandas/_libs/index.pyx\u001b[0m in \u001b[0;36mpandas._libs.index.IndexEngine.get_loc\u001b[1;34m()\u001b[0m\n",
      "\u001b[1;32mpandas/_libs/index.pyx\u001b[0m in \u001b[0;36mpandas._libs.index.IndexEngine.get_loc\u001b[1;34m()\u001b[0m\n",
      "\u001b[1;32mpandas/_libs/hashtable_class_helper.pxi\u001b[0m in \u001b[0;36mpandas._libs.hashtable.Int64HashTable.get_item\u001b[1;34m()\u001b[0m\n",
      "\u001b[1;32mpandas/_libs/hashtable_class_helper.pxi\u001b[0m in \u001b[0;36mpandas._libs.hashtable.Int64HashTable.get_item\u001b[1;34m()\u001b[0m\n",
      "\u001b[1;31mKeyError\u001b[0m: 75892",
      "\nDuring handling of the above exception, another exception occurred:\n",
      "\u001b[1;31mKeyError\u001b[0m                                  Traceback (most recent call last)",
      "\u001b[1;32m<ipython-input-13-45b31d0b86e1>\u001b[0m in \u001b[0;36m<module>\u001b[1;34m\u001b[0m\n\u001b[0;32m     43\u001b[0m         \u001b[0mopioid\u001b[0m\u001b[1;33m.\u001b[0m\u001b[0mloc\u001b[0m\u001b[1;33m[\u001b[0m\u001b[0mi\u001b[0m\u001b[1;33m,\u001b[0m\u001b[1;34m'day_count'\u001b[0m\u001b[1;33m]\u001b[0m \u001b[1;33m=\u001b[0m \u001b[0mmin\u001b[0m\u001b[1;33m(\u001b[0m\u001b[0mopioid\u001b[0m\u001b[1;33m.\u001b[0m\u001b[0mloc\u001b[0m\u001b[1;33m[\u001b[0m\u001b[0mi\u001b[0m\u001b[1;33m,\u001b[0m\u001b[1;34m'PAY_DAY_SUPPLY_CNT'\u001b[0m\u001b[1;33m]\u001b[0m\u001b[1;33m,\u001b[0m \u001b[1;36m180\u001b[0m\u001b[1;33m)\u001b[0m\u001b[1;33m\u001b[0m\u001b[1;33m\u001b[0m\u001b[0m\n\u001b[0;32m     44\u001b[0m \u001b[1;33m\u001b[0m\u001b[0m\n\u001b[1;32m---> 45\u001b[1;33m     \u001b[1;32mif\u001b[0m \u001b[0mopioid\u001b[0m\u001b[1;33m.\u001b[0m\u001b[0mloc\u001b[0m\u001b[1;33m[\u001b[0m\u001b[0mi\u001b[0m\u001b[1;33m-\u001b[0m\u001b[1;36m1\u001b[0m\u001b[1;33m,\u001b[0m\u001b[1;34m'Period'\u001b[0m\u001b[1;33m]\u001b[0m \u001b[1;33m==\u001b[0m \u001b[1;34m\"not_Qualified\"\u001b[0m \u001b[1;32mand\u001b[0m \u001b[0mopioid\u001b[0m\u001b[1;33m.\u001b[0m\u001b[0mloc\u001b[0m\u001b[1;33m[\u001b[0m\u001b[0mi\u001b[0m\u001b[1;33m,\u001b[0m\u001b[1;34m'id'\u001b[0m\u001b[1;33m]\u001b[0m \u001b[1;33m==\u001b[0m \u001b[0mopioid\u001b[0m\u001b[1;33m.\u001b[0m\u001b[0mloc\u001b[0m\u001b[1;33m[\u001b[0m\u001b[0mi\u001b[0m\u001b[1;33m-\u001b[0m\u001b[1;36m1\u001b[0m\u001b[1;33m,\u001b[0m\u001b[1;34m'id'\u001b[0m\u001b[1;33m]\u001b[0m \u001b[1;32mand\u001b[0m \u001b[0mopioid\u001b[0m\u001b[1;33m.\u001b[0m\u001b[0mloc\u001b[0m\u001b[1;33m[\u001b[0m\u001b[0mi\u001b[0m\u001b[1;33m,\u001b[0m\u001b[1;34m'Days'\u001b[0m\u001b[1;33m]\u001b[0m \u001b[1;33m<\u001b[0m \u001b[0mopioid\u001b[0m\u001b[1;33m.\u001b[0m\u001b[0mloc\u001b[0m\u001b[1;33m[\u001b[0m\u001b[0mi\u001b[0m\u001b[1;33m-\u001b[0m\u001b[1;36m1\u001b[0m\u001b[1;33m,\u001b[0m\u001b[1;34m'max_p_end'\u001b[0m\u001b[1;33m]\u001b[0m \u001b[1;32mand\u001b[0m \u001b[0mopioid\u001b[0m\u001b[1;33m.\u001b[0m\u001b[0mloc\u001b[0m\u001b[1;33m[\u001b[0m\u001b[0mi\u001b[0m\u001b[1;33m,\u001b[0m\u001b[1;34m'id'\u001b[0m\u001b[1;33m]\u001b[0m \u001b[1;33m==\u001b[0m\u001b[0mopioid\u001b[0m\u001b[1;33m.\u001b[0m\u001b[0mloc\u001b[0m\u001b[1;33m[\u001b[0m\u001b[0mi\u001b[0m\u001b[1;33m+\u001b[0m\u001b[1;36m1\u001b[0m\u001b[1;33m,\u001b[0m\u001b[1;34m'id'\u001b[0m\u001b[1;33m]\u001b[0m\u001b[1;33m:\u001b[0m\u001b[1;33m\u001b[0m\u001b[1;33m\u001b[0m\u001b[0m\n\u001b[0m\u001b[0;32m     46\u001b[0m         \u001b[0mopioid\u001b[0m\u001b[1;33m.\u001b[0m\u001b[0mloc\u001b[0m\u001b[1;33m[\u001b[0m\u001b[0mi\u001b[0m\u001b[1;33m,\u001b[0m\u001b[1;34m'Period'\u001b[0m\u001b[1;33m]\u001b[0m \u001b[1;33m=\u001b[0m \u001b[1;34m\"not_Qualified\"\u001b[0m\u001b[1;33m\u001b[0m\u001b[1;33m\u001b[0m\u001b[0m\n\u001b[0;32m     47\u001b[0m         \u001b[0mopioid\u001b[0m\u001b[1;33m.\u001b[0m\u001b[0mloc\u001b[0m\u001b[1;33m[\u001b[0m\u001b[0mi\u001b[0m\u001b[1;33m,\u001b[0m\u001b[1;34m'windows_count'\u001b[0m\u001b[1;33m]\u001b[0m \u001b[1;33m=\u001b[0m \u001b[0mmin\u001b[0m\u001b[1;33m(\u001b[0m\u001b[0mopioid\u001b[0m\u001b[1;33m.\u001b[0m\u001b[0mloc\u001b[0m\u001b[1;33m[\u001b[0m\u001b[0mi\u001b[0m\u001b[1;33m,\u001b[0m\u001b[1;34m'PAY_DAY_SUPPLY_CNT'\u001b[0m\u001b[1;33m]\u001b[0m\u001b[1;33m,\u001b[0m \u001b[0mopioid\u001b[0m\u001b[1;33m.\u001b[0m\u001b[0mloc\u001b[0m\u001b[1;33m[\u001b[0m\u001b[0mi\u001b[0m\u001b[1;33m+\u001b[0m\u001b[1;36m1\u001b[0m\u001b[1;33m,\u001b[0m\u001b[1;34m'Days'\u001b[0m\u001b[1;33m]\u001b[0m\u001b[1;33m-\u001b[0m\u001b[0mopioid\u001b[0m\u001b[1;33m.\u001b[0m\u001b[0mloc\u001b[0m\u001b[1;33m[\u001b[0m\u001b[0mi\u001b[0m\u001b[1;33m,\u001b[0m\u001b[1;34m'Days'\u001b[0m\u001b[1;33m]\u001b[0m\u001b[1;33m)\u001b[0m\u001b[1;33m\u001b[0m\u001b[1;33m\u001b[0m\u001b[0m\n",
      "\u001b[1;32mE:\\Anaconda\\lib\\site-packages\\pandas\\core\\indexing.py\u001b[0m in \u001b[0;36m__getitem__\u001b[1;34m(self, key)\u001b[0m\n\u001b[0;32m   1492\u001b[0m             \u001b[1;32mexcept\u001b[0m \u001b[1;33m(\u001b[0m\u001b[0mKeyError\u001b[0m\u001b[1;33m,\u001b[0m \u001b[0mIndexError\u001b[0m\u001b[1;33m,\u001b[0m \u001b[0mAttributeError\u001b[0m\u001b[1;33m)\u001b[0m\u001b[1;33m:\u001b[0m\u001b[1;33m\u001b[0m\u001b[1;33m\u001b[0m\u001b[0m\n\u001b[0;32m   1493\u001b[0m                 \u001b[1;32mpass\u001b[0m\u001b[1;33m\u001b[0m\u001b[1;33m\u001b[0m\u001b[0m\n\u001b[1;32m-> 1494\u001b[1;33m             \u001b[1;32mreturn\u001b[0m \u001b[0mself\u001b[0m\u001b[1;33m.\u001b[0m\u001b[0m_getitem_tuple\u001b[0m\u001b[1;33m(\u001b[0m\u001b[0mkey\u001b[0m\u001b[1;33m)\u001b[0m\u001b[1;33m\u001b[0m\u001b[1;33m\u001b[0m\u001b[0m\n\u001b[0m\u001b[0;32m   1495\u001b[0m         \u001b[1;32melse\u001b[0m\u001b[1;33m:\u001b[0m\u001b[1;33m\u001b[0m\u001b[1;33m\u001b[0m\u001b[0m\n\u001b[0;32m   1496\u001b[0m             \u001b[1;31m# we by definition only have the 0th axis\u001b[0m\u001b[1;33m\u001b[0m\u001b[1;33m\u001b[0m\u001b[1;33m\u001b[0m\u001b[0m\n",
      "\u001b[1;32mE:\\Anaconda\\lib\\site-packages\\pandas\\core\\indexing.py\u001b[0m in \u001b[0;36m_getitem_tuple\u001b[1;34m(self, tup)\u001b[0m\n\u001b[0;32m    866\u001b[0m     \u001b[1;32mdef\u001b[0m \u001b[0m_getitem_tuple\u001b[0m\u001b[1;33m(\u001b[0m\u001b[0mself\u001b[0m\u001b[1;33m,\u001b[0m \u001b[0mtup\u001b[0m\u001b[1;33m)\u001b[0m\u001b[1;33m:\u001b[0m\u001b[1;33m\u001b[0m\u001b[1;33m\u001b[0m\u001b[0m\n\u001b[0;32m    867\u001b[0m         \u001b[1;32mtry\u001b[0m\u001b[1;33m:\u001b[0m\u001b[1;33m\u001b[0m\u001b[1;33m\u001b[0m\u001b[0m\n\u001b[1;32m--> 868\u001b[1;33m             \u001b[1;32mreturn\u001b[0m \u001b[0mself\u001b[0m\u001b[1;33m.\u001b[0m\u001b[0m_getitem_lowerdim\u001b[0m\u001b[1;33m(\u001b[0m\u001b[0mtup\u001b[0m\u001b[1;33m)\u001b[0m\u001b[1;33m\u001b[0m\u001b[1;33m\u001b[0m\u001b[0m\n\u001b[0m\u001b[0;32m    869\u001b[0m         \u001b[1;32mexcept\u001b[0m \u001b[0mIndexingError\u001b[0m\u001b[1;33m:\u001b[0m\u001b[1;33m\u001b[0m\u001b[1;33m\u001b[0m\u001b[0m\n\u001b[0;32m    870\u001b[0m             \u001b[1;32mpass\u001b[0m\u001b[1;33m\u001b[0m\u001b[1;33m\u001b[0m\u001b[0m\n",
      "\u001b[1;32mE:\\Anaconda\\lib\\site-packages\\pandas\\core\\indexing.py\u001b[0m in \u001b[0;36m_getitem_lowerdim\u001b[1;34m(self, tup)\u001b[0m\n\u001b[0;32m    986\u001b[0m         \u001b[1;32mfor\u001b[0m \u001b[0mi\u001b[0m\u001b[1;33m,\u001b[0m \u001b[0mkey\u001b[0m \u001b[1;32min\u001b[0m \u001b[0menumerate\u001b[0m\u001b[1;33m(\u001b[0m\u001b[0mtup\u001b[0m\u001b[1;33m)\u001b[0m\u001b[1;33m:\u001b[0m\u001b[1;33m\u001b[0m\u001b[1;33m\u001b[0m\u001b[0m\n\u001b[0;32m    987\u001b[0m             \u001b[1;32mif\u001b[0m \u001b[0mis_label_like\u001b[0m\u001b[1;33m(\u001b[0m\u001b[0mkey\u001b[0m\u001b[1;33m)\u001b[0m \u001b[1;32mor\u001b[0m \u001b[0misinstance\u001b[0m\u001b[1;33m(\u001b[0m\u001b[0mkey\u001b[0m\u001b[1;33m,\u001b[0m \u001b[0mtuple\u001b[0m\u001b[1;33m)\u001b[0m\u001b[1;33m:\u001b[0m\u001b[1;33m\u001b[0m\u001b[1;33m\u001b[0m\u001b[0m\n\u001b[1;32m--> 988\u001b[1;33m                 \u001b[0msection\u001b[0m \u001b[1;33m=\u001b[0m \u001b[0mself\u001b[0m\u001b[1;33m.\u001b[0m\u001b[0m_getitem_axis\u001b[0m\u001b[1;33m(\u001b[0m\u001b[0mkey\u001b[0m\u001b[1;33m,\u001b[0m \u001b[0maxis\u001b[0m\u001b[1;33m=\u001b[0m\u001b[0mi\u001b[0m\u001b[1;33m)\u001b[0m\u001b[1;33m\u001b[0m\u001b[1;33m\u001b[0m\u001b[0m\n\u001b[0m\u001b[0;32m    989\u001b[0m \u001b[1;33m\u001b[0m\u001b[0m\n\u001b[0;32m    990\u001b[0m                 \u001b[1;31m# we have yielded a scalar ?\u001b[0m\u001b[1;33m\u001b[0m\u001b[1;33m\u001b[0m\u001b[1;33m\u001b[0m\u001b[0m\n",
      "\u001b[1;32mE:\\Anaconda\\lib\\site-packages\\pandas\\core\\indexing.py\u001b[0m in \u001b[0;36m_getitem_axis\u001b[1;34m(self, key, axis)\u001b[0m\n\u001b[0;32m   1911\u001b[0m         \u001b[1;31m# fall thru to straight lookup\u001b[0m\u001b[1;33m\u001b[0m\u001b[1;33m\u001b[0m\u001b[1;33m\u001b[0m\u001b[0m\n\u001b[0;32m   1912\u001b[0m         \u001b[0mself\u001b[0m\u001b[1;33m.\u001b[0m\u001b[0m_validate_key\u001b[0m\u001b[1;33m(\u001b[0m\u001b[0mkey\u001b[0m\u001b[1;33m,\u001b[0m \u001b[0maxis\u001b[0m\u001b[1;33m)\u001b[0m\u001b[1;33m\u001b[0m\u001b[1;33m\u001b[0m\u001b[0m\n\u001b[1;32m-> 1913\u001b[1;33m         \u001b[1;32mreturn\u001b[0m \u001b[0mself\u001b[0m\u001b[1;33m.\u001b[0m\u001b[0m_get_label\u001b[0m\u001b[1;33m(\u001b[0m\u001b[0mkey\u001b[0m\u001b[1;33m,\u001b[0m \u001b[0maxis\u001b[0m\u001b[1;33m=\u001b[0m\u001b[0maxis\u001b[0m\u001b[1;33m)\u001b[0m\u001b[1;33m\u001b[0m\u001b[1;33m\u001b[0m\u001b[0m\n\u001b[0m\u001b[0;32m   1914\u001b[0m \u001b[1;33m\u001b[0m\u001b[0m\n\u001b[0;32m   1915\u001b[0m \u001b[1;33m\u001b[0m\u001b[0m\n",
      "\u001b[1;32mE:\\Anaconda\\lib\\site-packages\\pandas\\core\\indexing.py\u001b[0m in \u001b[0;36m_get_label\u001b[1;34m(self, label, axis)\u001b[0m\n\u001b[0;32m    139\u001b[0m             \u001b[1;32mraise\u001b[0m \u001b[0mIndexingError\u001b[0m\u001b[1;33m(\u001b[0m\u001b[1;34m'no slices here, handle elsewhere'\u001b[0m\u001b[1;33m)\u001b[0m\u001b[1;33m\u001b[0m\u001b[1;33m\u001b[0m\u001b[0m\n\u001b[0;32m    140\u001b[0m \u001b[1;33m\u001b[0m\u001b[0m\n\u001b[1;32m--> 141\u001b[1;33m         \u001b[1;32mreturn\u001b[0m \u001b[0mself\u001b[0m\u001b[1;33m.\u001b[0m\u001b[0mobj\u001b[0m\u001b[1;33m.\u001b[0m\u001b[0m_xs\u001b[0m\u001b[1;33m(\u001b[0m\u001b[0mlabel\u001b[0m\u001b[1;33m,\u001b[0m \u001b[0maxis\u001b[0m\u001b[1;33m=\u001b[0m\u001b[0maxis\u001b[0m\u001b[1;33m)\u001b[0m\u001b[1;33m\u001b[0m\u001b[1;33m\u001b[0m\u001b[0m\n\u001b[0m\u001b[0;32m    142\u001b[0m \u001b[1;33m\u001b[0m\u001b[0m\n\u001b[0;32m    143\u001b[0m     \u001b[1;32mdef\u001b[0m \u001b[0m_get_loc\u001b[0m\u001b[1;33m(\u001b[0m\u001b[0mself\u001b[0m\u001b[1;33m,\u001b[0m \u001b[0mkey\u001b[0m\u001b[1;33m,\u001b[0m \u001b[0maxis\u001b[0m\u001b[1;33m=\u001b[0m\u001b[1;32mNone\u001b[0m\u001b[1;33m)\u001b[0m\u001b[1;33m:\u001b[0m\u001b[1;33m\u001b[0m\u001b[1;33m\u001b[0m\u001b[0m\n",
      "\u001b[1;32mE:\\Anaconda\\lib\\site-packages\\pandas\\core\\generic.py\u001b[0m in \u001b[0;36mxs\u001b[1;34m(self, key, axis, level, drop_level)\u001b[0m\n\u001b[0;32m   3583\u001b[0m                                                       drop_level=drop_level)\n\u001b[0;32m   3584\u001b[0m         \u001b[1;32melse\u001b[0m\u001b[1;33m:\u001b[0m\u001b[1;33m\u001b[0m\u001b[1;33m\u001b[0m\u001b[0m\n\u001b[1;32m-> 3585\u001b[1;33m             \u001b[0mloc\u001b[0m \u001b[1;33m=\u001b[0m \u001b[0mself\u001b[0m\u001b[1;33m.\u001b[0m\u001b[0mindex\u001b[0m\u001b[1;33m.\u001b[0m\u001b[0mget_loc\u001b[0m\u001b[1;33m(\u001b[0m\u001b[0mkey\u001b[0m\u001b[1;33m)\u001b[0m\u001b[1;33m\u001b[0m\u001b[1;33m\u001b[0m\u001b[0m\n\u001b[0m\u001b[0;32m   3586\u001b[0m \u001b[1;33m\u001b[0m\u001b[0m\n\u001b[0;32m   3587\u001b[0m             \u001b[1;32mif\u001b[0m \u001b[0misinstance\u001b[0m\u001b[1;33m(\u001b[0m\u001b[0mloc\u001b[0m\u001b[1;33m,\u001b[0m \u001b[0mnp\u001b[0m\u001b[1;33m.\u001b[0m\u001b[0mndarray\u001b[0m\u001b[1;33m)\u001b[0m\u001b[1;33m:\u001b[0m\u001b[1;33m\u001b[0m\u001b[1;33m\u001b[0m\u001b[0m\n",
      "\u001b[1;32mE:\\Anaconda\\lib\\site-packages\\pandas\\core\\indexes\\base.py\u001b[0m in \u001b[0;36mget_loc\u001b[1;34m(self, key, method, tolerance)\u001b[0m\n\u001b[0;32m   2657\u001b[0m                 \u001b[1;32mreturn\u001b[0m \u001b[0mself\u001b[0m\u001b[1;33m.\u001b[0m\u001b[0m_engine\u001b[0m\u001b[1;33m.\u001b[0m\u001b[0mget_loc\u001b[0m\u001b[1;33m(\u001b[0m\u001b[0mkey\u001b[0m\u001b[1;33m)\u001b[0m\u001b[1;33m\u001b[0m\u001b[1;33m\u001b[0m\u001b[0m\n\u001b[0;32m   2658\u001b[0m             \u001b[1;32mexcept\u001b[0m \u001b[0mKeyError\u001b[0m\u001b[1;33m:\u001b[0m\u001b[1;33m\u001b[0m\u001b[1;33m\u001b[0m\u001b[0m\n\u001b[1;32m-> 2659\u001b[1;33m                 \u001b[1;32mreturn\u001b[0m \u001b[0mself\u001b[0m\u001b[1;33m.\u001b[0m\u001b[0m_engine\u001b[0m\u001b[1;33m.\u001b[0m\u001b[0mget_loc\u001b[0m\u001b[1;33m(\u001b[0m\u001b[0mself\u001b[0m\u001b[1;33m.\u001b[0m\u001b[0m_maybe_cast_indexer\u001b[0m\u001b[1;33m(\u001b[0m\u001b[0mkey\u001b[0m\u001b[1;33m)\u001b[0m\u001b[1;33m)\u001b[0m\u001b[1;33m\u001b[0m\u001b[1;33m\u001b[0m\u001b[0m\n\u001b[0m\u001b[0;32m   2660\u001b[0m         \u001b[0mindexer\u001b[0m \u001b[1;33m=\u001b[0m \u001b[0mself\u001b[0m\u001b[1;33m.\u001b[0m\u001b[0mget_indexer\u001b[0m\u001b[1;33m(\u001b[0m\u001b[1;33m[\u001b[0m\u001b[0mkey\u001b[0m\u001b[1;33m]\u001b[0m\u001b[1;33m,\u001b[0m \u001b[0mmethod\u001b[0m\u001b[1;33m=\u001b[0m\u001b[0mmethod\u001b[0m\u001b[1;33m,\u001b[0m \u001b[0mtolerance\u001b[0m\u001b[1;33m=\u001b[0m\u001b[0mtolerance\u001b[0m\u001b[1;33m)\u001b[0m\u001b[1;33m\u001b[0m\u001b[1;33m\u001b[0m\u001b[0m\n\u001b[0;32m   2661\u001b[0m         \u001b[1;32mif\u001b[0m \u001b[0mindexer\u001b[0m\u001b[1;33m.\u001b[0m\u001b[0mndim\u001b[0m \u001b[1;33m>\u001b[0m \u001b[1;36m1\u001b[0m \u001b[1;32mor\u001b[0m \u001b[0mindexer\u001b[0m\u001b[1;33m.\u001b[0m\u001b[0msize\u001b[0m \u001b[1;33m>\u001b[0m \u001b[1;36m1\u001b[0m\u001b[1;33m:\u001b[0m\u001b[1;33m\u001b[0m\u001b[1;33m\u001b[0m\u001b[0m\n",
      "\u001b[1;32mpandas/_libs/index.pyx\u001b[0m in \u001b[0;36mpandas._libs.index.IndexEngine.get_loc\u001b[1;34m()\u001b[0m\n",
      "\u001b[1;32mpandas/_libs/index.pyx\u001b[0m in \u001b[0;36mpandas._libs.index.IndexEngine.get_loc\u001b[1;34m()\u001b[0m\n",
      "\u001b[1;32mpandas/_libs/hashtable_class_helper.pxi\u001b[0m in \u001b[0;36mpandas._libs.hashtable.Int64HashTable.get_item\u001b[1;34m()\u001b[0m\n",
      "\u001b[1;32mpandas/_libs/hashtable_class_helper.pxi\u001b[0m in \u001b[0;36mpandas._libs.hashtable.Int64HashTable.get_item\u001b[1;34m()\u001b[0m\n",
      "\u001b[1;31mKeyError\u001b[0m: 75892"
     ]
    }
   ],
   "source": [
    "#find the first period, Since the condition may not consider the last rows, the info of last row should be imputted manually\n",
    "for i in range(1,len(opioid)):\n",
    "    if opioid.loc[i,'Days'] >= opioid.loc[i,'min_day'] + 90 and opioid.loc[i,'id'] != opioid.loc[i-1,'id'] and opioid.loc[i,'id'] == opioid.loc[i+1,'id']:\n",
    "        opioid.loc[i,'Period'] = 1\n",
    "        opioid.loc[i,'max_p_end'] = opioid.loc[i,'Days'] +180\n",
    "        opioid.loc[i,'med_buy'] = opioid.loc[i,'PAY_DAY_SUPPLY_CNT']\n",
    "        opioid.loc[i,'day_count'] = min(opioid.loc[i,'PAY_DAY_SUPPLY_CNT'], opioid.loc[i+1,'Days']-opioid.loc[i,'Days'], 180)\n",
    "        \n",
    "    if opioid.loc[i,'Days'] >= opioid.loc[i,'min_day'] + 90 and opioid.loc[i,'id'] != opioid.loc[i-1,'id'] and opioid.loc[i,'id'] != opioid.loc[i+1,'id']:\n",
    "        opioid.loc[i,'Period'] = 1\n",
    "        opioid.loc[i,'max_p_end'] = opioid.loc[i,'Days'] +180\n",
    "        opioid.loc[i,'med_buy'] = opioid.loc[i,'PAY_DAY_SUPPLY_CNT']\n",
    "        opioid.loc[i,'day_count'] = min(opioid.loc[i,'PAY_DAY_SUPPLY_CNT'], 180)\n",
    "        \n",
    "    if opioid.loc[i,'Days'] < opioid.loc[i,'min_day'] + 90 and opioid.loc[i,'id'] == opioid.loc[i+1,'id']:\n",
    "        opioid.loc[i,'day_count'] =0\n",
    "        opioid.loc[i,'Period'] = \"not_Qualified\"\n",
    "        opioid.loc[i,'windows_count'] = min(opioid.loc[i,'PAY_DAY_SUPPLY_CNT'], opioid.loc[i+1,'Days']-opioid.loc[i,'Days'])\n",
    "        opioid.loc[i,'med_buy'] = opioid.loc[i,'PAY_DAY_SUPPLY_CNT']\n",
    "        opioid.loc[i,'w_period'] = 0\n",
    "        opioid.loc[i,'windows'] = \"not_naive\"\n",
    "        opioid.loc[i,'max_p_end'] = opioid.loc[i,'Days'] + opioid.loc[i,'windows_count'] + 90\n",
    "            \n",
    "    if opioid.loc[i,'Days'] < opioid.loc[i,'min_day'] + 90 and opioid.loc[i,'id'] != opioid.loc[i+1,'id']:\n",
    "        opioid.loc[i,'Period'] = \"not_Qualified\"\n",
    "        opioid.loc[i,'windows_count'] = min(opioid.loc[i,'PAY_DAY_SUPPLY_CNT'], 180)\n",
    "        opioid.loc[i,'med_buy'] = opioid.loc[i,'PAY_DAY_SUPPLY_CNT']\n",
    "        opioid.loc[i,'w_period'] = 0\n",
    "        opioid.loc[i,'windows'] = \"not_naive\"\n",
    "        opioid.loc[i,'max_p_end'] = opioid.loc[i,'Days'] + opioid.loc[i,'windows_count'] + 90\n",
    "        opioid.loc[i,'day_count'] =0\n",
    "        \n",
    "    if opioid.loc[i-1,'Period'] == \"not_Qualified\" and opioid.loc[i,'id'] == opioid.loc[i-1,'id'] and opioid.loc[i,'Days'] >= opioid.loc[i-1,'max_p_end'] and opioid.loc[i,'id'] == opioid.loc[i+1,'id']:\n",
    "        opioid.loc[i,'Period'] = 1\n",
    "        opioid.loc[i,'max_p_end'] = opioid.loc[i,'Days'] +180\n",
    "        opioid.loc[i,'med_buy'] = opioid.loc[i,'PAY_DAY_SUPPLY_CNT']\n",
    "        opioid.loc[i,'day_count'] = min(opioid.loc[i,'PAY_DAY_SUPPLY_CNT'], opioid.loc[i+1,'Days']-opioid.loc[i,'Days'], 180)\n",
    "        \n",
    "    if opioid.loc[i-1,'Period'] == \"not_Qualified\" and opioid.loc[i,'id'] == opioid.loc[i-1,'id'] and opioid.loc[i,'Days'] >= opioid.loc[i-1,'max_p_end'] and opioid.loc[i,'id'] != opioid.loc[i+1,'id']:\n",
    "        opioid.loc[i,'Period'] = 1\n",
    "        opioid.loc[i,'max_p_end'] = opioid.loc[i,'Days'] +180\n",
    "        opioid.loc[i,'med_buy'] = opioid.loc[i,'PAY_DAY_SUPPLY_CNT']\n",
    "        opioid.loc[i,'day_count'] = min(opioid.loc[i,'PAY_DAY_SUPPLY_CNT'], 180)\n",
    "        \n",
    "    if opioid.loc[i-1,'Period'] == \"not_Qualified\" and opioid.loc[i,'id'] == opioid.loc[i-1,'id'] and opioid.loc[i,'Days'] < opioid.loc[i-1,'max_p_end'] and opioid.loc[i,'id'] ==opioid.loc[i+1,'id']:\n",
    "        opioid.loc[i,'Period'] = \"not_Qualified\"\n",
    "        opioid.loc[i,'windows_count'] = min(opioid.loc[i,'PAY_DAY_SUPPLY_CNT'], opioid.loc[i+1,'Days']-opioid.loc[i,'Days'])\n",
    "        opioid.loc[i,'med_buy'] = opioid.loc[i,'PAY_DAY_SUPPLY_CNT']\n",
    "        opioid.loc[i,'w_period'] = 0\n",
    "        opioid.loc[i,'windows'] = \"not_naive\"\n",
    "        opioid.loc[i,'max_p_end'] = opioid.loc[i,'Days'] + opioid.loc[i,'windows_count'] + 90\n",
    "        opioid.loc[i,'day_count'] =0\n",
    "        \n",
    "    if opioid.loc[i-1,'Period'] == \"not_Qualified\" and opioid.loc[i,'id'] == opioid.loc[i-1,'id'] and opioid.loc[i,'Days'] < opioid.loc[i-1,'max_p_end'] and opioid.loc[i,'id'] !=opioid.loc[i+1,'id']:\n",
    "        opioid.loc[i,'Period'] = \"not_Qualified\"\n",
    "        opioid.loc[i,'windows_count'] = min(opioid.loc[i,'PAY_DAY_SUPPLY_CNT'], 180)\n",
    "        opioid.loc[i,'med_buy'] = opioid.loc[i,'PAY_DAY_SUPPLY_CNT']\n",
    "        opioid.loc[i,'w_period'] = 0\n",
    "        opioid.loc[i,'windows'] = \"not_naive\"\n",
    "        opioid.loc[i,'max_p_end'] = opioid.loc[i,'Days'] + opioid.loc[i,'windows_count'] + 90\n",
    "        opioid.loc[i,'day_count'] =0"
   ]
  },
  {
   "cell_type": "code",
   "execution_count": 14,
   "metadata": {},
   "outputs": [],
   "source": [
    "# input last manually\n",
    "opioid.loc[75891,'max_p_end'] = -164 +30+90\n",
    "opioid.loc[75891,'med_buy'] = 30\n",
    "opioid.loc[75891,'day_count'] =0\n",
    "opioid.loc[75891,'windows'] = \"not_naive\"\n",
    "opioid.loc[75891,'w_period'] = 0 \n",
    "opioid.loc[75891,'windows_count'] = 30\n",
    "opioid.loc[75891,'Period'] = 'not_Qualified'"
   ]
  },
  {
   "cell_type": "code",
   "execution_count": 15,
   "metadata": {},
   "outputs": [
    {
     "data": {
      "text/plain": [
       "10159"
      ]
     },
     "execution_count": 15,
     "metadata": {},
     "output_type": "execute_result"
    }
   ],
   "source": [
    "opioid.day_count.isna().sum()"
   ]
  },
  {
   "cell_type": "code",
   "execution_count": 16,
   "metadata": {},
   "outputs": [
    {
     "data": {
      "text/plain": [
       "Int64Index([    1,     2,   129,   131,   132,   133,   134,   135,   136,\n",
       "              137,\n",
       "            ...\n",
       "            75667, 75697, 75698, 75699, 75700, 75701, 75702, 75703, 75704,\n",
       "            75737],\n",
       "           dtype='int64', length=10159)"
      ]
     },
     "execution_count": 16,
     "metadata": {},
     "output_type": "execute_result"
    }
   ],
   "source": [
    "test = opioid['med_buy'].index[opioid['med_buy'].apply(np.isnan)]\n",
    "test"
   ]
  },
  {
   "cell_type": "code",
   "execution_count": 17,
   "metadata": {},
   "outputs": [],
   "source": [
    "# This part can be update to a clear and easy version.\n",
    "for i in test:\n",
    "    \n",
    "    if opioid.loc[i,'id']== opioid.loc[i+1,'id'] and opioid.loc[i-1,'windows'] != \"x_naive\" and opioid.loc[i,'Days'] >= (opioid.loc[i-1,\"Days\"] + max(opioid.loc[i-1,\"PAY_DAY_SUPPLY_CNT\"],opioid.loc[i-1,'day_count'])+90):\n",
    "        opioid.loc[i,'Period'] = opioid.loc[i-1,'Period'] +1\n",
    "        opioid.loc[i,'max_p_end'] = opioid.loc[i,'Days']+180\n",
    "        opioid.loc[i,'day_count'] = min(opioid.loc[i,'PAY_DAY_SUPPLY_CNT'], (opioid.loc[i+1,'Days']-opioid.loc[i,'Days']),180)\n",
    "        opioid.loc[i,'med_buy'] = opioid.loc[i,'PAY_DAY_SUPPLY_CNT']\n",
    "        \n",
    "        \n",
    "    #ensure the same iD， the last day is not Naived, in the same period, the interval is less than 90 days\n",
    "    if opioid.loc[i,'id']== opioid.loc[i+1,'id'] and opioid.loc[i-1,'windows'] != \"x_naive\" and opioid.loc[i,'Days'] < opioid.loc[i-1,\"Days\"] + max(opioid.loc[i-1,\"PAY_DAY_SUPPLY_CNT\"],opioid.loc[i-1,'day_count'])+90 and opioid.loc[i,'Days'] < opioid.loc[i-1,'max_p_end']:\n",
    "        opioid.loc[i,'Period'] = opioid.loc[i-1,'Period']\n",
    "        opioid.loc[i,'max_p_end'] = opioid.loc[i-1,'max_p_end']\n",
    "        opioid.loc[i,'day_count'] = min(opioid.loc[i,'PAY_DAY_SUPPLY_CNT'], (opioid.loc[i+1,'Days']-opioid.loc[i,'Days']),opioid.loc[i-1,'max_p_end']-opioid.loc[i,'Days'])\n",
    "        opioid.loc[i,'med_buy'] = opioid.loc[i,'PAY_DAY_SUPPLY_CNT']\n",
    "        \n",
    "    #  ensure the same iD， the last day is not Naived, the interval is less than 90 days, but not larger than 180 days\n",
    "    if opioid.loc[i,'id']== opioid.loc[i+1,'id'] and opioid.loc[i-1,'windows'] != \"x_naive\" and opioid.loc[i,'Days']< opioid.loc[i-1,\"Days\"] + max(opioid.loc[i-1,\"PAY_DAY_SUPPLY_CNT\"],opioid.loc[i-1,'day_count'])+90 and opioid.loc[i,'Days'] >= opioid.loc[i-1,'max_p_end']:\n",
    "        opioid.loc[i,'Period'] = \"not_qualified\"\n",
    "        opioid.loc[i,'windows_count'] = min(opioid.loc[i,'PAY_DAY_SUPPLY_CNT'], (opioid.loc[i+1,'Days']- opioid.loc[i,'Days']))\n",
    "        opioid.loc[i,'max_p_end'] = opioid.loc[i,'windows_count'] + opioid.loc[i,'Days'] + 90\n",
    "        opioid.loc[i,'day_count'] = 0\n",
    "        opioid.loc[i,'windows'] = \"x_naive\"\n",
    "        opioid.loc[i,'med_buy'] = opioid.loc[i,'PAY_DAY_SUPPLY_CNT']\n",
    "        opioid.loc[i,'w_period'] = opioid.loc[i-1,'Period'] + 1\n",
    "    \n",
    "    # ensure the same ID,  is not belong to new period since the difference between this day and naive day is less than 90 days \n",
    "    if opioid.loc[i,'id']== opioid.loc[i+1,'id'] and opioid.loc[i-1,'windows'] == \"x_naive\" and opioid.loc[i,'Days'] < opioid.loc[i-1,\"max_p_end\"]:\n",
    "        opioid.loc[i,'Period'] = \"not_qualified\"\n",
    "        opioid.loc[i,'windows_count'] = min(opioid.loc[i,'PAY_DAY_SUPPLY_CNT'], (opioid.loc[i+1,'Days']- opioid.loc[i,'Days']))\n",
    "        opioid.loc[i,'max_p_end'] = opioid.loc[i,'windows_count'] + opioid.loc[i,'Days'] + 90\n",
    "        opioid.loc[i,'day_count'] = 0\n",
    "        opioid.loc[i,'windows'] = \"x_naive\"\n",
    "        opioid.loc[i,'w_period'] = opioid.loc[i-1,'w_period']\n",
    "        opioid.loc[i,'med_buy'] = opioid.loc[i,'PAY_DAY_SUPPLY_CNT']\n",
    "    \n",
    "    # ensure the same ID, the difference to the last naive period is larger than 90days  \n",
    "    if opioid.loc[i,'id']== opioid.loc[i+1,'id'] and opioid.loc[i-1,'windows'] == \"x_naive\" and opioid.loc[i,'Days'] >= opioid.loc[i-1,\"max_p_end\"]:\n",
    "        opioid.loc[i,'Period'] = opioid.loc[i-1,'w_period']\n",
    "        opioid.loc[i,'max_p_end'] = opioid.loc[i,'Days'] +180\n",
    "        opioid.loc[i,'day_count'] = min(opioid.loc[i,'PAY_DAY_SUPPLY_CNT'], (opioid.loc[i+1,'Days']-opioid.loc[i,'Days']),180)\n",
    "        opioid.loc[i,'med_buy'] = opioid.loc[i,'PAY_DAY_SUPPLY_CNT']\n",
    "    \n",
    "    # the next row is another ID，前一天是Not Naived, 间隔大于90天\n",
    "    if opioid.loc[i,'id']!= opioid.loc[i+1,'id'] and opioid.loc[i-1,'windows'] == \"x_naive\" and opioid.loc[i,'Days'] >= opioid.loc[i-1,\"max_p_end\"]:\n",
    "        opioid.loc[i,'Period'] = opioid.loc[i-1,'w_period']\n",
    "        opioid.loc[i,'max_p_end'] = opioid.loc[i,'Days'] +180\n",
    "        opioid.loc[i,'day_count'] = min(opioid.loc[i,'PAY_DAY_SUPPLY_CNT'], 180)\n",
    "        opioid.loc[i,'med_buy'] = opioid.loc[i,'PAY_DAY_SUPPLY_CNT']\n",
    " \n",
    "\n",
    "    #Next part consider the same thing, but the different is the next day may have different ID\n",
    "    if opioid.loc[i,'id']!= opioid.loc[i+1,'id'] and opioid.loc[i-1,'windows'] == \"x_naive\" and opioid.loc[i,'Days'] < opioid.loc[i-1,\"max_p_end\"]:\n",
    "        opioid.loc[i,'Period'] = \"not_qualified\"\n",
    "        opioid.loc[i,'windows_count'] = opioid.loc[i,'PAY_DAY_SUPPLY_CNT']\n",
    "        opioid.loc[i,'max_p_end'] = opioid.loc[i,'windows_count'] + opioid.loc[i,'Days'] + 90\n",
    "        opioid.loc[i,'day_count'] = 0\n",
    "        opioid.loc[i,'windows'] = \"x_naive\"\n",
    "        opioid.loc[i,'w_period'] = opioid.loc[i-1,'w_period']\n",
    "        opioid.loc[i,'med_buy'] = opioid.loc[i,'PAY_DAY_SUPPLY_CNT']\n",
    "    \n",
    "    \n",
    "    if opioid.loc[i,'id']!= opioid.loc[i+1,'id'] and opioid.loc[i-1,'windows'] != \"x_naive\" and opioid.loc[i,'Days'] >= (opioid.loc[i-1,\"Days\"] + max(opioid.loc[i-1,\"PAY_DAY_SUPPLY_CNT\"],opioid.loc[i-1,'day_count'])+90):\n",
    "        opioid.loc[i,'Period'] = opioid.loc[i-1,'Period'] +1\n",
    "        opioid.loc[i,'max_p_end'] = opioid.loc[i,'Days']+180\n",
    "        opioid.loc[i,'day_count'] = min(opioid.loc[i,'PAY_DAY_SUPPLY_CNT'], 180)\n",
    "        opioid.loc[i,'med_buy'] = opioid.loc[i,'PAY_DAY_SUPPLY_CNT']\n",
    "        \n",
    "   \n",
    "    if opioid.loc[i,'id']!= opioid.loc[i+1,'id'] and opioid.loc[i-1,'windows'] != \"x_naive\" and opioid.loc[i,'Days'] < opioid.loc[i-1,\"Days\"] + max(opioid.loc[i-1,\"PAY_DAY_SUPPLY_CNT\"],opioid.loc[i-1,'day_count'])+90 and opioid.loc[i,'Days'] < opioid.loc[i-1,'max_p_end']:\n",
    "        opioid.loc[i,'Period'] = opioid.loc[i-1,'Period']\n",
    "        opioid.loc[i,'max_p_end'] = opioid.loc[i-1,'max_p_end']\n",
    "        opioid.loc[i,'day_count'] = min(opioid.loc[i,'PAY_DAY_SUPPLY_CNT'],180)\n",
    "        opioid.loc[i,'med_buy'] = opioid.loc[i,'PAY_DAY_SUPPLY_CNT']\n",
    "        \n",
    "   \n",
    "    if opioid.loc[i,'id']!= opioid.loc[i+1,'id'] and opioid.loc[i-1,'windows'] != \"x_naive\" and opioid.loc[i,'Days']< opioid.loc[i-1,\"Days\"] + max(opioid.loc[i-1,\"PAY_DAY_SUPPLY_CNT\"],opioid.loc[i-1,'day_count'])+90 and opioid.loc[i,'Days'] >= opioid.loc[i-1,'max_p_end']:\n",
    "        opioid.loc[i,'Period'] =\"not_qualified\"\n",
    "        opioid.loc[i,'max_p_end'] = opioid.loc[i,'Days'] + opioid.loc[i,'PAY_DAY_SUPPLY_CNT']+90\n",
    "        opioid.loc[i,'day_count'] = 0\n",
    "        opioid.loc[i,'med_buy'] = opioid.loc[i,'PAY_DAY_SUPPLY_CNT']\n",
    "        opioid.loc[i,'windows'] = \"x_naive\"\n",
    "        opioid.loc[i,'w_period'] = opioid.loc[i-1,'Period']+1\n",
    "        opioid.loc[i,'windows_count'] = opioid.loc[i,'PAY_DAY_SUPPLY_CNT']"
   ]
  },
  {
   "cell_type": "code",
   "execution_count": null,
   "metadata": {},
   "outputs": [],
   "source": [
    "opioid.to_csv('before_0.csv')"
   ]
  },
  {
   "cell_type": "code",
   "execution_count": null,
   "metadata": {},
   "outputs": [],
   "source": []
  }
 ],
 "metadata": {
  "kernelspec": {
   "display_name": "Python 3",
   "language": "python",
   "name": "python3"
  },
  "language_info": {
   "codemirror_mode": {
    "name": "ipython",
    "version": 3
   },
   "file_extension": ".py",
   "mimetype": "text/x-python",
   "name": "python",
   "nbconvert_exporter": "python",
   "pygments_lexer": "ipython3",
   "version": "3.7.3"
  }
 },
 "nbformat": 4,
 "nbformat_minor": 2
}
